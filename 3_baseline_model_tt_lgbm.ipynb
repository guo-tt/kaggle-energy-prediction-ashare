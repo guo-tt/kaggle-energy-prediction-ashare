{
 "cells": [
  {
   "cell_type": "code",
   "execution_count": 1,
   "metadata": {},
   "outputs": [],
   "source": [
    "import numpy as np\n",
    "import pandas as pd\n",
    "from sklearn.model_selection import GroupShuffleSplit\n",
    "import random\n",
    "import gc\n",
    "import lightgbm as lgb\n",
    "import pickle\n",
    "import seaborn as sns\n",
    "import matplotlib.pyplot as plt\n",
    "import feather\n",
    "import os\n",
    "import glob\n",
    "import csv   \n",
    "from sklearn.metrics import mean_squared_error\n",
    "from sklearn.preprocessing import LabelEncoder\n",
    "import datetime"
   ]
  },
  {
   "cell_type": "markdown",
   "metadata": {},
   "source": [
    "Set seed"
   ]
  },
  {
   "cell_type": "code",
   "execution_count": 2,
   "metadata": {},
   "outputs": [],
   "source": [
    "seed = 7\n",
    "random.seed(seed)\n",
    "np.random.seed(seed)"
   ]
  },
  {
   "cell_type": "code",
   "execution_count": 3,
   "metadata": {},
   "outputs": [],
   "source": [
    "pd.set_option('display.max_rows', 500)\n",
    "pd.set_option('display.max_columns', 500)\n",
    "pd.set_option('display.width', 1000)"
   ]
  },
  {
   "cell_type": "markdown",
   "metadata": {},
   "source": [
    "# Functions"
   ]
  },
  {
   "cell_type": "code",
   "execution_count": 5,
   "metadata": {},
   "outputs": [],
   "source": [
    "def reduce_mem_usage(df, verbose=True):\n",
    "    numerics = ['int16', 'int32', 'int64', 'float16', 'float32', 'float64']\n",
    "    start_mem = df.memory_usage().sum() / 1024**2    \n",
    "    for col in df.columns:\n",
    "        col_type = df[col].dtypes\n",
    "        if col_type in numerics:\n",
    "            c_min = df[col].min()\n",
    "            c_max = df[col].max()\n",
    "            if str(col_type)[:3] == 'int':\n",
    "                if c_min > np.iinfo(np.int8).min and c_max < np.iinfo(np.int8).max:\n",
    "                    df[col] = df[col].astype(np.int8)\n",
    "                elif c_min > np.iinfo(np.int16).min and c_max < np.iinfo(np.int16).max:\n",
    "                    df[col] = df[col].astype(np.int16)\n",
    "                elif c_min > np.iinfo(np.int32).min and c_max < np.iinfo(np.int32).max:\n",
    "                    df[col] = df[col].astype(np.int32)\n",
    "                elif c_min > np.iinfo(np.int64).min and c_max < np.iinfo(np.int64).max:\n",
    "                    df[col] = df[col].astype(np.int64)  \n",
    "            else:\n",
    "                if c_min > np.finfo(np.float16).min and c_max < np.finfo(np.float16).max:\n",
    "                    df[col] = df[col].astype(np.float16)\n",
    "                elif c_min > np.finfo(np.float32).min and c_max < np.finfo(np.float32).max:\n",
    "                    df[col] = df[col].astype(np.float32)\n",
    "                else:\n",
    "                    df[col] = df[col].astype(np.float64)    \n",
    "    end_mem = df.memory_usage().sum() / 1024**2\n",
    "    if verbose: print('Mem. usage decreased to {:5.2f} Mb ({:.1f}% reduction)'.format(end_mem, 100 * (start_mem - end_mem) / start_mem))\n",
    "    return df"
   ]
  },
  {
   "cell_type": "code",
   "execution_count": 6,
   "metadata": {},
   "outputs": [],
   "source": [
    "def fill_weather_dataset(weather_df):\n",
    "    \n",
    "    # Find Missing Dates\n",
    "#     time_format = \"%Y-%m-%d %H:%M:%S\"\n",
    "#     start_date = datetime.datetime.strptime(weather_df['timestamp'].min(),time_format)\n",
    "#     end_date = datetime.datetime.strptime(weather_df['timestamp'].max(),time_format)\n",
    "#     start_date = weather_df['timestamp'].min()\n",
    "#     end_date = weather_df['timestamp'].max()\n",
    "#     total_hours = int(((end_date - start_date).total_seconds() + 3600) / 3600)\n",
    "#     hours_list = [(end_date - datetime.timedelta(hours=x)).strftime(time_format) for x in range(total_hours)]\n",
    "\n",
    "#     missing_hours = []\n",
    "#     for site_id in range(16):\n",
    "#         site_hours = np.array(weather_df[weather_df['site_id'] == site_id]['timestamp'])\n",
    "#         new_rows = pd.DataFrame(np.setdiff1d(hours_list,site_hours),columns=['timestamp'])\n",
    "#         new_rows['site_id'] = site_id\n",
    "#         weather_df = pd.concat([weather_df,new_rows])\n",
    "\n",
    "#         weather_df = weather_df.reset_index(drop=True)           \n",
    "\n",
    "    # Add new Features\n",
    "    weather_df[\"datetime\"] = pd.to_datetime(weather_df[\"timestamp\"])\n",
    "    weather_df[\"day\"] = weather_df[\"datetime\"].dt.day\n",
    "    weather_df[\"week\"] = weather_df[\"datetime\"].dt.week\n",
    "    weather_df[\"month\"] = weather_df[\"datetime\"].dt.month\n",
    "    \n",
    "    # Reset Index for Fast Update\n",
    "    weather_df = weather_df.set_index(['site_id','day','month'])\n",
    "\n",
    "    air_temperature_filler = pd.DataFrame(weather_df.groupby(['site_id','day','month'])['air_temperature'].mean(),columns=[\"air_temperature\"])\n",
    "    weather_df.update(air_temperature_filler,overwrite=False) \n",
    "    new_air_temperature_filler = pd.DataFrame(weather_df.groupby(['site_id','day','month'])['new_air_temperature'].mean(),columns=[\"new_air_temperature\"])\n",
    "    weather_df.update(new_air_temperature_filler,overwrite=False)\n",
    "\n",
    "    cloud_coverage_filler = weather_df.groupby(['site_id','day','month'])['cloud_coverage'].mean()\n",
    "    cloud_coverage_filler = pd.DataFrame(cloud_coverage_filler.fillna(method='ffill'),columns=[\"cloud_coverage\"])\n",
    "    weather_df.update(cloud_coverage_filler,overwrite=False)\n",
    "    \n",
    "    new_cloud_coverage_filler = weather_df.groupby(['site_id','day','month'])['new_cloud_coverage'].mean()\n",
    "    new_cloud_coverage_filler = pd.DataFrame(new_cloud_coverage_filler.fillna(method='ffill'),columns=[\"new_cloud_coverage\"])\n",
    "    weather_df.update(new_cloud_coverage_filler,overwrite=False)\n",
    "    \n",
    "    due_temperature_filler = pd.DataFrame(weather_df.groupby(['site_id','day','month'])['dew_temperature'].mean(),columns=[\"dew_temperature\"])\n",
    "    weather_df.update(due_temperature_filler,overwrite=False)\n",
    "    new_due_temperature_filler = pd.DataFrame(weather_df.groupby(['site_id','day','month'])['new_dew_temperature'].mean(),columns=[\"new_dew_temperature\"])\n",
    "    weather_df.update(new_due_temperature_filler,overwrite=False)\n",
    "\n",
    "    sea_level_filler = weather_df.groupby(['site_id','day','month'])['sea_level_pressure'].mean()\n",
    "    sea_level_filler = pd.DataFrame(sea_level_filler.fillna(method='ffill'),columns=['sea_level_pressure'])\n",
    "    weather_df.update(sea_level_filler,overwrite=False)\n",
    "    \n",
    "    new_sea_level_filler = weather_df.groupby(['site_id','day','month'])['new_sea_level_pressure'].mean()\n",
    "    new_sea_level_filler = pd.DataFrame(new_sea_level_filler.fillna(method='ffill'),columns=['new_sea_level_pressure'])\n",
    "    weather_df.update(new_sea_level_filler,overwrite=False)\n",
    "\n",
    "    wind_direction_filler =  pd.DataFrame(weather_df.groupby(['site_id','day','month'])['wind_direction'].mean(),columns=['wind_direction'])\n",
    "    weather_df.update(wind_direction_filler,overwrite=False)\n",
    "    \n",
    "    new_wind_direction_filler =  pd.DataFrame(weather_df.groupby(['site_id','day','month'])['new_wind_direction'].mean(),columns=['new_wind_direction'])\n",
    "    weather_df.update(new_wind_direction_filler,overwrite=False)\n",
    "\n",
    "    wind_speed_filler =  pd.DataFrame(weather_df.groupby(['site_id','day','month'])['wind_speed'].mean(),columns=['wind_speed'])\n",
    "    weather_df.update(wind_speed_filler,overwrite=False)\n",
    "    new_wind_speed_filler =  pd.DataFrame(weather_df.groupby(['site_id','day','month'])['new_wind_speed'].mean(),columns=['new_wind_speed'])\n",
    "    weather_df.update(new_wind_speed_filler,overwrite=False)\n",
    "\n",
    "    precip_depth_filler = weather_df.groupby(['site_id','day','month'])['precip_depth_1_hr'].mean()\n",
    "    precip_depth_filler = pd.DataFrame(precip_depth_filler.fillna(method='ffill'),columns=['precip_depth_1_hr'])\n",
    "    weather_df.update(precip_depth_filler,overwrite=False)\n",
    "    \n",
    "    new_precip_depth_filler = weather_df.groupby(['site_id','day','month'])['new_precip_depth_1_hr'].mean()\n",
    "    new_precip_depth_filler = pd.DataFrame(new_precip_depth_filler.fillna(method='ffill'),columns=['new_precip_depth_1_hr'])\n",
    "    weather_df.update(new_precip_depth_filler,overwrite=False)\n",
    "    \n",
    "    uvIndex_filler =  pd.DataFrame(weather_df.groupby(['site_id','day','month'])['uvIndex'].mean(),columns=['uvIndex'])\n",
    "    weather_df.update(uvIndex_filler,overwrite=False)\n",
    "    \n",
    "    cloudCover_filler =  pd.DataFrame(weather_df.groupby(['site_id','day','month'])['cloudCover'].mean(),columns=['cloudCover'])\n",
    "    weather_df.update(cloudCover_filler,overwrite=False)\n",
    "    \n",
    "    humidity_filler =  pd.DataFrame(weather_df.groupby(['site_id','day','month'])['humidity'].mean(),columns=['humidity'])\n",
    "    weather_df.update(humidity_filler,overwrite=False)\n",
    "    \n",
    "    irradiance_cloud_filler =  pd.DataFrame(weather_df.groupby(['site_id','day','month'])['irradiance_cloud'].mean(),columns=['irradiance_cloud'])\n",
    "    weather_df.update(irradiance_cloud_filler,overwrite=False)\n",
    "    \n",
    "    feels_like_filler =  pd.DataFrame(weather_df.groupby(['site_id','day','month'])['feels_like'].mean(),columns=['feels_like'])\n",
    "    weather_df.update(feels_like_filler,overwrite=False)\n",
    "    \n",
    "    new_feels_like_filler =  pd.DataFrame(weather_df.groupby(['site_id','day','month'])['new_feels_like'].mean(),columns=['new_feels_like'])\n",
    "    weather_df.update(new_feels_like_filler,overwrite=False)\n",
    "    \n",
    "    weather_df = weather_df.reset_index()\n",
    "    weather_df = weather_df.drop(['datetime','day','week','month'],axis=1)\n",
    "        \n",
    "    return weather_df\n"
   ]
  },
  {
   "cell_type": "code",
   "execution_count": 7,
   "metadata": {},
   "outputs": [],
   "source": [
    "def add_lag_feature(weather_df, window=3):\n",
    "    group_df = weather_df.groupby('site_id')\n",
    "    cols = ['sea_level_pressure', 'dew_temperature',\n",
    "       'wind_speed', 'cloud_coverage', 'wind_direction', 'precip_depth_1_hr',\n",
    "       'air_temperature', 'uvIndex', 'cloudCover', 'humidity', 'latitude',\n",
    "       'longitude', 'irradiance_cloud', 'new_feels_like', 'radiation']\n",
    "    rolled = group_df[cols].rolling(window=window, min_periods=0)\n",
    "    lag_mean = rolled.mean().reset_index().astype(np.float16)\n",
    "    lag_max = rolled.max().reset_index().astype(np.float16)\n",
    "    lag_min = rolled.min().reset_index().astype(np.float16)\n",
    "    lag_std = rolled.std().reset_index().astype(np.float16)\n",
    "    for col in cols:\n",
    "        weather_df[f'{col}_mean_lag{window}'] = lag_mean[col]\n",
    "        weather_df[f'{col}_max_lag{window}'] = lag_max[col]\n",
    "        weather_df[f'{col}_min_lag{window}'] = lag_min[col]\n",
    "        weather_df[f'{col}_std_lag{window}'] = lag_std[col]\n",
    "    return weather_df"
   ]
  },
  {
   "cell_type": "markdown",
   "metadata": {},
   "source": [
    "# Load data"
   ]
  },
  {
   "cell_type": "markdown",
   "metadata": {},
   "source": [
    "## weather"
   ]
  },
  {
   "cell_type": "code",
   "execution_count": 8,
   "metadata": {},
   "outputs": [
    {
     "name": "stdout",
     "output_type": "stream",
     "text": [
      "CPU times: user 43.6 ms, sys: 54.4 ms, total: 98 ms\n",
      "Wall time: 509 ms\n"
     ]
    }
   ],
   "source": [
    "%%time\n",
    "weather = feather.read_dataframe('../../data-vol-2/Prepared_data/weather.feather')\n",
    "#weather['timestamp'] = weather['timestamp'].astype(str)\n",
    "#weather['timestamp'] = pd.to_datetime(weather['timestamp'])"
   ]
  },
  {
   "cell_type": "code",
   "execution_count": 9,
   "metadata": {},
   "outputs": [],
   "source": [
    "weather = fill_weather_dataset(weather)"
   ]
  },
  {
   "cell_type": "code",
   "execution_count": 10,
   "metadata": {},
   "outputs": [],
   "source": [
    "weather.drop(['air_temperature', 'cloud_coverage',\n",
    "       'dew_temperature', 'precip_depth_1_hr', 'sea_level_pressure',\n",
    "       'wind_direction', 'wind_speed','feels_like','altitude', 'azimuth', 'irradiance'],axis = 1, inplace=True)\n",
    "\n",
    "weather.rename(columns = {'new_sea_level_pressure':'sea_level_pressure', 'new_dew_temperature': 'dew_temperature',\n",
    "               'new_wind_speed':'wind_speed','new_cloud_coverage':'cloud_coverage', \n",
    "                'new_wind_direction':'wind_direction','new_precip_depth_1_hr':'precip_depth_1_hr', \n",
    "                'new_air_temperature':'air_temperature'},inplace=True)"
   ]
  },
  {
   "cell_type": "code",
   "execution_count": 11,
   "metadata": {},
   "outputs": [],
   "source": [
    "weather = add_lag_feature(weather, window=72)"
   ]
  },
  {
   "cell_type": "code",
   "execution_count": 12,
   "metadata": {},
   "outputs": [],
   "source": [
    "# windspeed feeling\n",
    "\n",
    "beaufort = [(0, 0, 0.3), (1, 0.3, 1.6), (2, 1.6, 3.4), (3, 3.4, 5.5), (4, 5.5, 8), (5, 8, 10.8), (6, 10.8, 13.9), \n",
    "          (7, 13.9, 17.2), (8, 17.2, 20.8), (9, 20.8, 24.5), (10, 24.5, 28.5), (11, 28.5, 33), (12, 33, 200)]\n",
    "\n",
    "for item in beaufort:\n",
    "    weather.loc[(weather['wind_speed']>=item[1]) & (weather['wind_speed']<item[2]), 'beaufort_scale'] = item[0]"
   ]
  },
  {
   "cell_type": "markdown",
   "metadata": {},
   "source": [
    "## Train data"
   ]
  },
  {
   "cell_type": "code",
   "execution_count": 13,
   "metadata": {},
   "outputs": [
    {
     "name": "stdout",
     "output_type": "stream",
     "text": [
      "CPU times: user 3.45 s, sys: 3.76 s, total: 7.21 s\n",
      "Wall time: 42.3 s\n"
     ]
    }
   ],
   "source": [
    "%%time\n",
    "train = feather.read_dataframe('../../data-vol-2/Prepared_data/train_prepared.feather')\n",
    "train['timestamp'] = pd.to_datetime(train['timestamp'])\n",
    "train['meter_reading'] = np.log1p(train['meter_reading'])\n",
    "#train.drop(columns=['utc','utc_time','altitude','azimuth'], inplace=True)\n"
   ]
  },
  {
   "cell_type": "code",
   "execution_count": 14,
   "metadata": {},
   "outputs": [],
   "source": [
    "train = train.drop(columns=['air_temperature',\n",
    "       'cloud_coverage', 'dew_temperature', 'precip_depth_1_hr',\n",
    "       'sea_level_pressure', 'wind_direction', 'wind_speed',\n",
    "       'new_sea_level_pressure', 'new_dew_temperature', 'new_wind_speed',\n",
    "       'new_cloud_coverage', 'new_wind_direction', 'new_precip_depth_1_hr',\n",
    "       'new_air_temperature', 'uvIndex', 'cloudCover', 'humidity', 'latitude',\n",
    "       'longitude', 'irradiance', 'irradiance_cloud', 'feels_like',\n",
    "       'new_feels_like', 'altitude', 'azimuth', 'radiation'])"
   ]
  },
  {
   "cell_type": "code",
   "execution_count": 15,
   "metadata": {},
   "outputs": [
    {
     "data": {
      "text/plain": [
       "20"
      ]
     },
     "execution_count": 15,
     "metadata": {},
     "output_type": "execute_result"
    }
   ],
   "source": [
    "train = train[train['site_id'].isin([0,1,2])]\n",
    "gc.collect()"
   ]
  },
  {
   "cell_type": "code",
   "execution_count": 16,
   "metadata": {},
   "outputs": [],
   "source": [
    "train = train.merge(weather, on=['site_id', 'timestamp'], how='left')"
   ]
  },
  {
   "cell_type": "code",
   "execution_count": 17,
   "metadata": {},
   "outputs": [],
   "source": [
    "train['year'] = train['timestamp'].dt.year\n",
    "train['month'] = train['timestamp'].dt.month\n",
    "train['day'] = train['timestamp'].dt.day\n",
    "train['hour'] = train['timestamp'].dt.hour\n",
    "train['weekday'] = train['timestamp'].dt.weekday\n",
    "train['age'] = train['year'] - train['year_built']\n",
    "\n",
    "pd.set_option('display.max_rows', 500)\n",
    "cols = ['floor_count']\n",
    "train.loc[:, cols] = train.loc[:, cols].interpolate(axis=0)\n",
    "\n",
    "new_df = train.groupby(by=['building_id'], as_index=False)['timestamp'].min()\n",
    "new_df = new_df.rename(columns = {'timestamp': 'start_ts'})\n",
    "train = train.merge(new_df, on = 'building_id', how='left')\n",
    "train['hours_passed'] = (train['timestamp'] - train['start_ts']).dt.total_seconds()/3600"
   ]
  },
  {
   "cell_type": "code",
   "execution_count": 18,
   "metadata": {},
   "outputs": [
    {
     "name": "stdout",
     "output_type": "stream",
     "text": [
      "Mem. usage decreased to 845.20 Mb (45.1% reduction)\n"
     ]
    }
   ],
   "source": [
    "train = reduce_mem_usage(train)"
   ]
  },
  {
   "cell_type": "markdown",
   "metadata": {},
   "source": [
    "## Test"
   ]
  },
  {
   "cell_type": "code",
   "execution_count": 19,
   "metadata": {},
   "outputs": [
    {
     "name": "stdout",
     "output_type": "stream",
     "text": [
      "CPU times: user 2.87 s, sys: 2.82 s, total: 5.69 s\n",
      "Wall time: 24.1 s\n"
     ]
    }
   ],
   "source": [
    "%%time\n",
    "test = feather.read_dataframe(f'../../data-vol-3/Prepared_data/test_leaked_prepared.feather')\n",
    "test.dropna(subset=['meter_reading'],inplace=True)"
   ]
  },
  {
   "cell_type": "code",
   "execution_count": 20,
   "metadata": {},
   "outputs": [],
   "source": [
    "test = test.drop(columns=['air_temperature',\n",
    "       'cloud_coverage', 'dew_temperature', 'precip_depth_1_hr',\n",
    "       'sea_level_pressure', 'wind_direction', 'wind_speed',\n",
    "       'new_sea_level_pressure', 'new_dew_temperature', 'new_wind_speed',\n",
    "       'new_cloud_coverage', 'new_wind_direction', 'new_precip_depth_1_hr',\n",
    "       'new_air_temperature', 'uvIndex', 'cloudCover', 'humidity', 'latitude',\n",
    "       'longitude', 'irradiance', 'irradiance_cloud', 'feels_like',\n",
    "       'new_feels_like', 'altitude', 'azimuth', 'radiation'])"
   ]
  },
  {
   "cell_type": "code",
   "execution_count": 21,
   "metadata": {},
   "outputs": [],
   "source": [
    "test = test.merge(weather, on=['site_id', 'timestamp'], how='left')"
   ]
  },
  {
   "cell_type": "code",
   "execution_count": 22,
   "metadata": {},
   "outputs": [],
   "source": [
    "test['year'] = test['timestamp'].dt.year\n",
    "test['month'] = test['timestamp'].dt.month\n",
    "test['day'] = test['timestamp'].dt.day\n",
    "test['hour'] = test['timestamp'].dt.hour\n",
    "test['weekday'] = test['timestamp'].dt.weekday\n",
    "test['age'] = test['year'] - test['year_built']\n",
    "\n",
    "pd.set_option('display.max_rows', 500)\n",
    "cols = ['floor_count']\n",
    "test.loc[:, cols] = test.loc[:, cols].interpolate(axis=0)\n",
    "\n",
    "new_df = test.groupby(by=['building_id'], as_index=False)['timestamp'].min()\n",
    "new_df = new_df.rename(columns = {'timestamp': 'start_ts'})\n",
    "test = test.merge(new_df, on = 'building_id', how='left')\n",
    "test['hours_passed'] = (test['timestamp'] - test['start_ts']).dt.total_seconds()/3600\n"
   ]
  },
  {
   "cell_type": "code",
   "execution_count": 23,
   "metadata": {},
   "outputs": [],
   "source": [
    "cat_cols = ['meter', 'primary_use', 'site_id', 'is_day_saving','is_holiday', 'year', 'month', 'day', 'hour']\n",
    "le = LabelEncoder()\n",
    "\n",
    "for col in cat_cols:\n",
    "#     test[col] = test[col].astype('category')\n",
    "#     train[col] = train[col].astype('category')   \n",
    "    train[col] = le.fit_transform(train[col])\n",
    "    test[col] = le.fit_transform(test[col])"
   ]
  },
  {
   "cell_type": "code",
   "execution_count": 24,
   "metadata": {},
   "outputs": [
    {
     "name": "stdout",
     "output_type": "stream",
     "text": [
      "Mem. usage decreased to 1966.42 Mb (48.4% reduction)\n"
     ]
    }
   ],
   "source": [
    "test = reduce_mem_usage(test)"
   ]
  },
  {
   "cell_type": "markdown",
   "metadata": {},
   "source": [
    "# Create train test split"
   ]
  },
  {
   "cell_type": "code",
   "execution_count": 30,
   "metadata": {},
   "outputs": [],
   "source": [
    "cv_method = 'stratified_month_usage'\n",
    "n_split = 5\n",
    "version = 2\n",
    "model_name = 'lgbm'\n",
    "\n",
    "train['split'] = (train['primary_use'] + train['timestamp'].dt.month - 1) % n_split"
   ]
  },
  {
   "cell_type": "code",
   "execution_count": 31,
   "metadata": {},
   "outputs": [],
   "source": [
    "features = [col for col in train.columns if col not in ['meter_reading', 'split', 'utc_time', 'timestamp', 'start_ts']]\n",
    "     \n",
    "target = 'meter_reading'"
   ]
  },
  {
   "cell_type": "markdown",
   "metadata": {},
   "source": [
    "# remove outliers"
   ]
  },
  {
   "cell_type": "code",
   "execution_count": 32,
   "metadata": {},
   "outputs": [],
   "source": [
    "train = train [train['building_id'] != 1099 ]\n",
    "train = train.query('not (building_id <= 104 & meter == 0 & timestamp <= \"2016-05-20\")')"
   ]
  },
  {
   "cell_type": "markdown",
   "metadata": {},
   "source": [
    "# Train model"
   ]
  },
  {
   "cell_type": "code",
   "execution_count": null,
   "metadata": {},
   "outputs": [],
   "source": [
    "# group = train['site_id'].astype(str) + \"_\" + (train['timestamp'].dt.month).astype(str)\n",
    "# groupSplit = GroupShuffleSplit(n_split, test_size=0.2, random_state=7)\n",
    "# folds = groupSplit.split(train[['radiation']],\n",
    "#                          train['meter_reading'],\n",
    "#                          groups=[train['site_id'],train['timestamp'].dt.month])"
   ]
  },
  {
   "cell_type": "markdown",
   "metadata": {},
   "source": [
    "# LightGBM"
   ]
  },
  {
   "cell_type": "code",
   "execution_count": 33,
   "metadata": {},
   "outputs": [
    {
     "data": {
      "text/plain": [
       "50"
      ]
     },
     "execution_count": 33,
     "metadata": {},
     "output_type": "execute_result"
    }
   ],
   "source": [
    "lgb_params = {\n",
    "              'objective':'regression',\n",
    "              'boosting_type':'gbdt',\n",
    "              'metric':'rmse',\n",
    "              'n_jobs':-1,\n",
    "              'learning_rate':0.05,\n",
    "              'num_leaves': 2**8,\n",
    "              'max_depth':-1,\n",
    "              'tree_learner':'serial',\n",
    "              'colsample_bytree': 0.9,\n",
    "              'subsample_freq':1,\n",
    "              'subsample':0.5,\n",
    "              'n_estimators':2000,\n",
    "              'max_bin':255,\n",
    "              'verbose':2,\n",
    "              'seed': seed,\n",
    "              'early_stopping_rounds':100 \n",
    "            } \n",
    "\n",
    "mean_performance_test = 0 \n",
    "mean_performance_train = 0\n",
    "mean_performance_leaked = 0\n",
    "gc.collect()"
   ]
  },
  {
   "cell_type": "code",
   "execution_count": 34,
   "metadata": {
    "scrolled": true
   },
   "outputs": [
    {
     "name": "stdout",
     "output_type": "stream",
     "text": [
      "\n",
      "\n",
      "\n",
      " ===== Fold numer 0 =====\n"
     ]
    },
    {
     "name": "stderr",
     "output_type": "stream",
     "text": [
      "/opt/conda/lib/python3.7/site-packages/lightgbm/engine.py:148: UserWarning: Found `n_estimators` in params. Will use it instead of argument\n",
      "  warnings.warn(\"Found `{}` in params. Will use it instead of argument\".format(alias))\n",
      "/opt/conda/lib/python3.7/site-packages/lightgbm/engine.py:153: UserWarning: Found `early_stopping_rounds` in params. Will use it instead of argument\n",
      "  warnings.warn(\"Found `{}` in params. Will use it instead of argument\".format(alias))\n"
     ]
    },
    {
     "name": "stdout",
     "output_type": "stream",
     "text": [
      "Training until validation scores don't improve for 100 rounds\n",
      "[50]\ttraining's rmse: 0.660448\tvalid_1's rmse: 0.809744\n",
      "[100]\ttraining's rmse: 0.528551\tvalid_1's rmse: 0.740536\n",
      "[150]\ttraining's rmse: 0.479366\tvalid_1's rmse: 0.717816\n",
      "[200]\ttraining's rmse: 0.450219\tvalid_1's rmse: 0.708365\n",
      "[250]\ttraining's rmse: 0.430532\tvalid_1's rmse: 0.701853\n",
      "[300]\ttraining's rmse: 0.415985\tvalid_1's rmse: 0.69854\n",
      "[350]\ttraining's rmse: 0.403632\tvalid_1's rmse: 0.695138\n",
      "[400]\ttraining's rmse: 0.393576\tvalid_1's rmse: 0.692844\n",
      "[450]\ttraining's rmse: 0.384706\tvalid_1's rmse: 0.690888\n",
      "[500]\ttraining's rmse: 0.376716\tvalid_1's rmse: 0.689268\n",
      "[550]\ttraining's rmse: 0.369297\tvalid_1's rmse: 0.688106\n",
      "[600]\ttraining's rmse: 0.363423\tvalid_1's rmse: 0.68719\n",
      "[650]\ttraining's rmse: 0.358043\tvalid_1's rmse: 0.686573\n",
      "[700]\ttraining's rmse: 0.353361\tvalid_1's rmse: 0.685833\n",
      "[750]\ttraining's rmse: 0.348884\tvalid_1's rmse: 0.685153\n",
      "[800]\ttraining's rmse: 0.344741\tvalid_1's rmse: 0.684568\n",
      "[850]\ttraining's rmse: 0.340225\tvalid_1's rmse: 0.683982\n",
      "[900]\ttraining's rmse: 0.336748\tvalid_1's rmse: 0.68352\n",
      "[950]\ttraining's rmse: 0.333032\tvalid_1's rmse: 0.682896\n",
      "[1000]\ttraining's rmse: 0.329847\tvalid_1's rmse: 0.682614\n",
      "[1050]\ttraining's rmse: 0.326326\tvalid_1's rmse: 0.682138\n",
      "[1100]\ttraining's rmse: 0.323431\tvalid_1's rmse: 0.681861\n",
      "[1150]\ttraining's rmse: 0.320568\tvalid_1's rmse: 0.681587\n",
      "[1200]\ttraining's rmse: 0.317592\tvalid_1's rmse: 0.681265\n",
      "[1250]\ttraining's rmse: 0.314986\tvalid_1's rmse: 0.681095\n",
      "[1300]\ttraining's rmse: 0.312405\tvalid_1's rmse: 0.681076\n",
      "[1350]\ttraining's rmse: 0.309787\tvalid_1's rmse: 0.680638\n",
      "[1400]\ttraining's rmse: 0.307623\tvalid_1's rmse: 0.680655\n",
      "[1450]\ttraining's rmse: 0.305248\tvalid_1's rmse: 0.680495\n",
      "[1500]\ttraining's rmse: 0.303059\tvalid_1's rmse: 0.680377\n",
      "[1550]\ttraining's rmse: 0.30095\tvalid_1's rmse: 0.680223\n",
      "[1600]\ttraining's rmse: 0.298513\tvalid_1's rmse: 0.679782\n",
      "[1650]\ttraining's rmse: 0.296236\tvalid_1's rmse: 0.679653\n",
      "[1700]\ttraining's rmse: 0.294076\tvalid_1's rmse: 0.67941\n",
      "[1750]\ttraining's rmse: 0.292186\tvalid_1's rmse: 0.679382\n",
      "[1800]\ttraining's rmse: 0.290174\tvalid_1's rmse: 0.679293\n",
      "[1850]\ttraining's rmse: 0.288449\tvalid_1's rmse: 0.679149\n",
      "[1900]\ttraining's rmse: 0.28681\tvalid_1's rmse: 0.679049\n",
      "[1950]\ttraining's rmse: 0.285193\tvalid_1's rmse: 0.679071\n",
      "[2000]\ttraining's rmse: 0.28334\tvalid_1's rmse: 0.679016\n",
      "Did not meet early stopping. Best iteration is:\n",
      "[2000]\ttraining's rmse: 0.28334\tvalid_1's rmse: 0.679016\n",
      "Done with the test prediction\n",
      "0.28333971963638266 0.6790164544241581 2.152711831448339\n",
      "\n",
      "\n",
      "\n",
      " ===== Fold numer 1 =====\n"
     ]
    },
    {
     "name": "stderr",
     "output_type": "stream",
     "text": [
      "/opt/conda/lib/python3.7/site-packages/lightgbm/engine.py:148: UserWarning: Found `n_estimators` in params. Will use it instead of argument\n",
      "  warnings.warn(\"Found `{}` in params. Will use it instead of argument\".format(alias))\n",
      "/opt/conda/lib/python3.7/site-packages/lightgbm/engine.py:153: UserWarning: Found `early_stopping_rounds` in params. Will use it instead of argument\n",
      "  warnings.warn(\"Found `{}` in params. Will use it instead of argument\".format(alias))\n"
     ]
    },
    {
     "name": "stdout",
     "output_type": "stream",
     "text": [
      "Training until validation scores don't improve for 100 rounds\n",
      "[50]\ttraining's rmse: 0.658599\tvalid_1's rmse: 0.817095\n",
      "[100]\ttraining's rmse: 0.530865\tvalid_1's rmse: 0.738841\n",
      "[150]\ttraining's rmse: 0.481457\tvalid_1's rmse: 0.716774\n",
      "[200]\ttraining's rmse: 0.454007\tvalid_1's rmse: 0.705875\n",
      "[250]\ttraining's rmse: 0.434615\tvalid_1's rmse: 0.699113\n",
      "[300]\ttraining's rmse: 0.421104\tvalid_1's rmse: 0.695348\n",
      "[350]\ttraining's rmse: 0.409023\tvalid_1's rmse: 0.691896\n",
      "[400]\ttraining's rmse: 0.398661\tvalid_1's rmse: 0.688801\n",
      "[450]\ttraining's rmse: 0.389969\tvalid_1's rmse: 0.686474\n",
      "[500]\ttraining's rmse: 0.382899\tvalid_1's rmse: 0.685153\n",
      "[550]\ttraining's rmse: 0.376289\tvalid_1's rmse: 0.683875\n",
      "[600]\ttraining's rmse: 0.369657\tvalid_1's rmse: 0.682325\n",
      "[650]\ttraining's rmse: 0.364578\tvalid_1's rmse: 0.681272\n",
      "[700]\ttraining's rmse: 0.359719\tvalid_1's rmse: 0.680484\n",
      "[750]\ttraining's rmse: 0.354913\tvalid_1's rmse: 0.679625\n",
      "[800]\ttraining's rmse: 0.350208\tvalid_1's rmse: 0.678677\n",
      "[850]\ttraining's rmse: 0.346439\tvalid_1's rmse: 0.678298\n",
      "[900]\ttraining's rmse: 0.342631\tvalid_1's rmse: 0.677644\n",
      "[950]\ttraining's rmse: 0.33861\tvalid_1's rmse: 0.677032\n",
      "[1000]\ttraining's rmse: 0.335154\tvalid_1's rmse: 0.676955\n",
      "[1050]\ttraining's rmse: 0.331907\tvalid_1's rmse: 0.676637\n",
      "[1100]\ttraining's rmse: 0.328606\tvalid_1's rmse: 0.676243\n",
      "[1150]\ttraining's rmse: 0.325459\tvalid_1's rmse: 0.675916\n",
      "[1200]\ttraining's rmse: 0.32276\tvalid_1's rmse: 0.675523\n",
      "[1250]\ttraining's rmse: 0.320059\tvalid_1's rmse: 0.675095\n",
      "[1300]\ttraining's rmse: 0.317382\tvalid_1's rmse: 0.67475\n",
      "[1350]\ttraining's rmse: 0.314707\tvalid_1's rmse: 0.674279\n",
      "[1400]\ttraining's rmse: 0.312381\tvalid_1's rmse: 0.674123\n",
      "[1450]\ttraining's rmse: 0.310159\tvalid_1's rmse: 0.674128\n",
      "[1500]\ttraining's rmse: 0.307737\tvalid_1's rmse: 0.673789\n",
      "[1550]\ttraining's rmse: 0.305678\tvalid_1's rmse: 0.673475\n",
      "[1600]\ttraining's rmse: 0.303324\tvalid_1's rmse: 0.673202\n",
      "[1650]\ttraining's rmse: 0.301211\tvalid_1's rmse: 0.672954\n",
      "[1700]\ttraining's rmse: 0.299232\tvalid_1's rmse: 0.672859\n",
      "[1750]\ttraining's rmse: 0.297114\tvalid_1's rmse: 0.672608\n",
      "[1800]\ttraining's rmse: 0.29517\tvalid_1's rmse: 0.672529\n",
      "[1850]\ttraining's rmse: 0.293201\tvalid_1's rmse: 0.672411\n",
      "[1900]\ttraining's rmse: 0.291378\tvalid_1's rmse: 0.672377\n",
      "[1950]\ttraining's rmse: 0.289587\tvalid_1's rmse: 0.672025\n",
      "[2000]\ttraining's rmse: 0.288012\tvalid_1's rmse: 0.671916\n",
      "Did not meet early stopping. Best iteration is:\n",
      "[2000]\ttraining's rmse: 0.288012\tvalid_1's rmse: 0.671916\n",
      "Done with the test prediction\n",
      "0.28567589239917446 0.6754663950557172 2.1435571574922245\n",
      "\n",
      "\n",
      "\n",
      " ===== Fold numer 2 =====\n"
     ]
    },
    {
     "name": "stderr",
     "output_type": "stream",
     "text": [
      "/opt/conda/lib/python3.7/site-packages/lightgbm/engine.py:148: UserWarning: Found `n_estimators` in params. Will use it instead of argument\n",
      "  warnings.warn(\"Found `{}` in params. Will use it instead of argument\".format(alias))\n",
      "/opt/conda/lib/python3.7/site-packages/lightgbm/engine.py:153: UserWarning: Found `early_stopping_rounds` in params. Will use it instead of argument\n",
      "  warnings.warn(\"Found `{}` in params. Will use it instead of argument\".format(alias))\n"
     ]
    },
    {
     "name": "stdout",
     "output_type": "stream",
     "text": [
      "Training until validation scores don't improve for 100 rounds\n",
      "[50]\ttraining's rmse: 0.673251\tvalid_1's rmse: 0.762518\n",
      "[100]\ttraining's rmse: 0.543132\tvalid_1's rmse: 0.67676\n",
      "[150]\ttraining's rmse: 0.492856\tvalid_1's rmse: 0.653261\n",
      "[200]\ttraining's rmse: 0.462424\tvalid_1's rmse: 0.644037\n",
      "[250]\ttraining's rmse: 0.442644\tvalid_1's rmse: 0.637902\n",
      "[300]\ttraining's rmse: 0.42884\tvalid_1's rmse: 0.634136\n",
      "[350]\ttraining's rmse: 0.417936\tvalid_1's rmse: 0.631604\n",
      "[400]\ttraining's rmse: 0.407407\tvalid_1's rmse: 0.629155\n",
      "[450]\ttraining's rmse: 0.398299\tvalid_1's rmse: 0.62652\n",
      "[500]\ttraining's rmse: 0.390526\tvalid_1's rmse: 0.62483\n",
      "[550]\ttraining's rmse: 0.383263\tvalid_1's rmse: 0.623307\n",
      "[600]\ttraining's rmse: 0.376702\tvalid_1's rmse: 0.62178\n",
      "[650]\ttraining's rmse: 0.371009\tvalid_1's rmse: 0.621109\n",
      "[700]\ttraining's rmse: 0.365327\tvalid_1's rmse: 0.620103\n",
      "[750]\ttraining's rmse: 0.360863\tvalid_1's rmse: 0.619545\n",
      "[800]\ttraining's rmse: 0.356482\tvalid_1's rmse: 0.618773\n",
      "[850]\ttraining's rmse: 0.352212\tvalid_1's rmse: 0.618402\n",
      "[1350]\ttraining's rmse: 0.320512\tvalid_1's rmse: 0.61461\n",
      "[1400]\ttraining's rmse: 0.317941\tvalid_1's rmse: 0.614304\n",
      "[1450]\ttraining's rmse: 0.315707\tvalid_1's rmse: 0.614123\n",
      "[1500]\ttraining's rmse: 0.313384\tvalid_1's rmse: 0.613872\n",
      "[1550]\ttraining's rmse: 0.311192\tvalid_1's rmse: 0.613608\n",
      "[1600]\ttraining's rmse: 0.308889\tvalid_1's rmse: 0.613397\n",
      "[1650]\ttraining's rmse: 0.306969\tvalid_1's rmse: 0.613235\n",
      "[1700]\ttraining's rmse: 0.304932\tvalid_1's rmse: 0.613078\n",
      "[1750]\ttraining's rmse: 0.302853\tvalid_1's rmse: 0.612797\n",
      "[1800]\ttraining's rmse: 0.300966\tvalid_1's rmse: 0.612733\n",
      "[1850]\ttraining's rmse: 0.299199\tvalid_1's rmse: 0.612724\n",
      "[1900]\ttraining's rmse: 0.297231\tvalid_1's rmse: 0.612678\n",
      "[1950]\ttraining's rmse: 0.295374\tvalid_1's rmse: 0.612616\n",
      "[2000]\ttraining's rmse: 0.293553\tvalid_1's rmse: 0.612533\n",
      "Did not meet early stopping. Best iteration is:\n",
      "[2000]\ttraining's rmse: 0.293553\tvalid_1's rmse: 0.612533\n",
      "Done with the test prediction\n",
      "0.2883015202664346 0.6544886281910512 2.147679680603513\n",
      "\n",
      "\n",
      "\n",
      " ===== Fold numer 3 =====\n"
     ]
    },
    {
     "name": "stderr",
     "output_type": "stream",
     "text": [
      "/opt/conda/lib/python3.7/site-packages/lightgbm/engine.py:148: UserWarning: Found `n_estimators` in params. Will use it instead of argument\n",
      "  warnings.warn(\"Found `{}` in params. Will use it instead of argument\".format(alias))\n",
      "/opt/conda/lib/python3.7/site-packages/lightgbm/engine.py:153: UserWarning: Found `early_stopping_rounds` in params. Will use it instead of argument\n",
      "  warnings.warn(\"Found `{}` in params. Will use it instead of argument\".format(alias))\n"
     ]
    },
    {
     "name": "stdout",
     "output_type": "stream",
     "text": [
      "Training until validation scores don't improve for 100 rounds\n",
      "[50]\ttraining's rmse: 0.670123\tvalid_1's rmse: 0.736069\n",
      "[100]\ttraining's rmse: 0.5402\tvalid_1's rmse: 0.645209\n",
      "[150]\ttraining's rmse: 0.488459\tvalid_1's rmse: 0.619311\n",
      "[200]\ttraining's rmse: 0.45882\tvalid_1's rmse: 0.607705\n",
      "[250]\ttraining's rmse: 0.439859\tvalid_1's rmse: 0.601295\n",
      "[300]\ttraining's rmse: 0.42508\tvalid_1's rmse: 0.597124\n",
      "[350]\ttraining's rmse: 0.413714\tvalid_1's rmse: 0.593901\n",
      "[400]\ttraining's rmse: 0.402945\tvalid_1's rmse: 0.591015\n",
      "[450]\ttraining's rmse: 0.394286\tvalid_1's rmse: 0.588989\n",
      "[500]\ttraining's rmse: 0.386754\tvalid_1's rmse: 0.587313\n",
      "[550]\ttraining's rmse: 0.379898\tvalid_1's rmse: 0.585597\n",
      "[600]\ttraining's rmse: 0.37397\tvalid_1's rmse: 0.584291\n",
      "[650]\ttraining's rmse: 0.368095\tvalid_1's rmse: 0.583369\n",
      "[700]\ttraining's rmse: 0.363111\tvalid_1's rmse: 0.582533\n",
      "[750]\ttraining's rmse: 0.357804\tvalid_1's rmse: 0.581373\n",
      "[800]\ttraining's rmse: 0.353174\tvalid_1's rmse: 0.580438\n",
      "[850]\ttraining's rmse: 0.348757\tvalid_1's rmse: 0.579642\n",
      "[900]\ttraining's rmse: 0.345199\tvalid_1's rmse: 0.578885\n",
      "[950]\ttraining's rmse: 0.341516\tvalid_1's rmse: 0.578305\n",
      "[1000]\ttraining's rmse: 0.337567\tvalid_1's rmse: 0.577609\n",
      "[1050]\ttraining's rmse: 0.333908\tvalid_1's rmse: 0.576943\n",
      "[1100]\ttraining's rmse: 0.330542\tvalid_1's rmse: 0.576628\n",
      "[1150]\ttraining's rmse: 0.327371\tvalid_1's rmse: 0.576206\n",
      "[1200]\ttraining's rmse: 0.324511\tvalid_1's rmse: 0.575802\n",
      "[1250]\ttraining's rmse: 0.321702\tvalid_1's rmse: 0.575563\n",
      "[1300]\ttraining's rmse: 0.318988\tvalid_1's rmse: 0.575345\n",
      "[1350]\ttraining's rmse: 0.316352\tvalid_1's rmse: 0.57511\n",
      "[1400]\ttraining's rmse: 0.313794\tvalid_1's rmse: 0.574762\n",
      "[1450]\ttraining's rmse: 0.311596\tvalid_1's rmse: 0.574639\n",
      "[1500]\ttraining's rmse: 0.309398\tvalid_1's rmse: 0.574486\n",
      "[1550]\ttraining's rmse: 0.307223\tvalid_1's rmse: 0.574361\n",
      "[1600]\ttraining's rmse: 0.305147\tvalid_1's rmse: 0.574186\n",
      "[1650]\ttraining's rmse: 0.303069\tvalid_1's rmse: 0.573959\n",
      "[1700]\ttraining's rmse: 0.301026\tvalid_1's rmse: 0.573809\n",
      "[1750]\ttraining's rmse: 0.298915\tvalid_1's rmse: 0.573552\n",
      "[1800]\ttraining's rmse: 0.296886\tvalid_1's rmse: 0.573381\n",
      "[1850]\ttraining's rmse: 0.295132\tvalid_1's rmse: 0.573268\n",
      "[1900]\ttraining's rmse: 0.293077\tvalid_1's rmse: 0.573197\n",
      "[1950]\ttraining's rmse: 0.291456\tvalid_1's rmse: 0.573121\n",
      "[2000]\ttraining's rmse: 0.28979\tvalid_1's rmse: 0.573006\n",
      "Did not meet early stopping. Best iteration is:\n",
      "[2000]\ttraining's rmse: 0.28979\tvalid_1's rmse: 0.573006\n",
      "Done with the test prediction\n",
      "0.288673662257579 0.634118078606056 2.147569082947391\n",
      "\n",
      "\n",
      "\n",
      " ===== Fold numer 4 =====\n"
     ]
    },
    {
     "name": "stderr",
     "output_type": "stream",
     "text": [
      "/opt/conda/lib/python3.7/site-packages/lightgbm/engine.py:148: UserWarning: Found `n_estimators` in params. Will use it instead of argument\n",
      "  warnings.warn(\"Found `{}` in params. Will use it instead of argument\".format(alias))\n",
      "/opt/conda/lib/python3.7/site-packages/lightgbm/engine.py:153: UserWarning: Found `early_stopping_rounds` in params. Will use it instead of argument\n",
      "  warnings.warn(\"Found `{}` in params. Will use it instead of argument\".format(alias))\n"
     ]
    },
    {
     "name": "stdout",
     "output_type": "stream",
     "text": [
      "Training until validation scores don't improve for 100 rounds\n",
      "[50]\ttraining's rmse: 0.672524\tvalid_1's rmse: 0.784954\n",
      "[100]\ttraining's rmse: 0.542997\tvalid_1's rmse: 0.701008\n",
      "[150]\ttraining's rmse: 0.492103\tvalid_1's rmse: 0.67677\n",
      "[200]\ttraining's rmse: 0.461869\tvalid_1's rmse: 0.661843\n",
      "[250]\ttraining's rmse: 0.441687\tvalid_1's rmse: 0.653272\n",
      "[300]\ttraining's rmse: 0.425741\tvalid_1's rmse: 0.647843\n",
      "[350]\ttraining's rmse: 0.412628\tvalid_1's rmse: 0.643403\n",
      "[400]\ttraining's rmse: 0.403279\tvalid_1's rmse: 0.640511\n",
      "[750]\ttraining's rmse: 0.357347\tvalid_1's rmse: 0.630256\n",
      "[800]\ttraining's rmse: 0.352742\tvalid_1's rmse: 0.629216\n",
      "[850]\ttraining's rmse: 0.348564\tvalid_1's rmse: 0.628602\n",
      "[900]\ttraining's rmse: 0.345051\tvalid_1's rmse: 0.628258\n",
      "[950]\ttraining's rmse: 0.341395\tvalid_1's rmse: 0.627758\n",
      "[1000]\ttraining's rmse: 0.338292\tvalid_1's rmse: 0.627313\n",
      "[1050]\ttraining's rmse: 0.334849\tvalid_1's rmse: 0.626843\n",
      "[1100]\ttraining's rmse: 0.331767\tvalid_1's rmse: 0.626401\n",
      "[1150]\ttraining's rmse: 0.32865\tvalid_1's rmse: 0.626115\n",
      "[1200]\ttraining's rmse: 0.325633\tvalid_1's rmse: 0.625826\n",
      "[1250]\ttraining's rmse: 0.32261\tvalid_1's rmse: 0.62537\n",
      "[1300]\ttraining's rmse: 0.319859\tvalid_1's rmse: 0.624907\n",
      "[1350]\ttraining's rmse: 0.317243\tvalid_1's rmse: 0.624523\n",
      "[1400]\ttraining's rmse: 0.314733\tvalid_1's rmse: 0.624429\n",
      "[1450]\ttraining's rmse: 0.31239\tvalid_1's rmse: 0.624209\n",
      "[1500]\ttraining's rmse: 0.309962\tvalid_1's rmse: 0.623977\n",
      "[1550]\ttraining's rmse: 0.307539\tvalid_1's rmse: 0.62374\n",
      "[1600]\ttraining's rmse: 0.305316\tvalid_1's rmse: 0.62352\n",
      "[1650]\ttraining's rmse: 0.303243\tvalid_1's rmse: 0.623411\n",
      "[1700]\ttraining's rmse: 0.301242\tvalid_1's rmse: 0.623159\n",
      "[1750]\ttraining's rmse: 0.299429\tvalid_1's rmse: 0.622942\n",
      "[1800]\ttraining's rmse: 0.297438\tvalid_1's rmse: 0.622825\n",
      "[1850]\ttraining's rmse: 0.295676\tvalid_1's rmse: 0.622588\n",
      "[1900]\ttraining's rmse: 0.293699\tvalid_1's rmse: 0.622329\n",
      "[1950]\ttraining's rmse: 0.291906\tvalid_1's rmse: 0.622086\n",
      "[2000]\ttraining's rmse: 0.290306\tvalid_1's rmse: 0.621971\n",
      "Did not meet early stopping. Best iteration is:\n",
      "[2000]\ttraining's rmse: 0.290306\tvalid_1's rmse: 0.621971\n",
      "Done with the test prediction\n",
      "0.2890000401698452 0.6316887186178014 2.14707029493584\n"
     ]
    }
   ],
   "source": [
    "for fold in range(n_split):  \n",
    "    print(f\"\\n\\n\\n ===== Fold numer {fold} =====\")\n",
    "    tr_data = lgb.Dataset(train.loc[train['split'].ne(fold)][features], \n",
    "                          label=train.loc[train['split'].ne(fold)][target])\n",
    "    vl_data = lgb.Dataset(train.loc[train['split'].eq(fold)][features], \n",
    "                          label=train.loc[train['split'].eq(fold)][target])\n",
    "    gc.collect()\n",
    "    estimator = lgb.train(\n",
    "                lgb_params,\n",
    "                tr_data,\n",
    "                valid_sets = [tr_data,vl_data],\n",
    "                verbose_eval = 50)\n",
    "    model_filename = 'models/' + model_name + '_' + cv_method + '_fold_' + str(fold)  + '.bin'\n",
    "    pickle.dump(estimator, open(model_filename, 'wb'))\n",
    "    \n",
    "    performance_test = estimator.best_score['valid_1']['rmse']\n",
    "    performance_train = estimator.best_score['training']['rmse']\n",
    "\n",
    "    mean_performance_test += performance_test\n",
    "    mean_performance_train += performance_train\n",
    "    gc.collect()\n",
    "    \n",
    "    i = 0\n",
    "    step = 100000\n",
    "    test['pred'] = np.nan\n",
    "    while i < test.shape[0]:\n",
    "        test.loc[i:(i+step-1),'pred'] = estimator.predict(test.iloc[i:(i+step)][features])\n",
    "        i = i + step\n",
    "        gc.collect()\n",
    "    print(\"Done with the test prediction\")\n",
    "    \n",
    "    performance_leaked = np.sqrt(mean_squared_error(test['meter_reading_log'],test['pred']))\n",
    "    mean_performance_leaked += performance_leaked\n",
    "    \n",
    "    with open(r'./models/perf_leaked.csv', 'a') as f:\n",
    "        writer = csv.writer(f)\n",
    "        writer.writerow([cv_method, fold, performance_train, performance_test, performance_leaked])\n",
    "\n",
    "    print((mean_performance_train/(fold+1)),(mean_performance_test/(fold+1)),(mean_performance_leaked/(fold+1)))"
   ]
  },
  {
   "cell_type": "markdown",
   "metadata": {},
   "source": [
    "# Feature importance"
   ]
  },
  {
   "cell_type": "code",
   "execution_count": 37,
   "metadata": {},
   "outputs": [],
   "source": [
    "estimator = pickle.load(open('models/lgbm_stratified_building_id_month_fold_4.bin', 'rb'))"
   ]
  },
  {
   "cell_type": "code",
   "execution_count": 49,
   "metadata": {},
   "outputs": [
    {
     "data": {
      "text/plain": [
       "<Figure size 3600x4320 with 0 Axes>"
      ]
     },
     "metadata": {},
     "output_type": "display_data"
    },
    {
     "data": {
      "image/png": "[encoded data removed]",
      "text/plain": [
       "<Figure size 432x288 with 1 Axes>"
      ]
     },
     "metadata": {
      "needs_background": "light"
     },
     "output_type": "display_data"
    }
   ],
   "source": [
    "import matplotlib.pyplot as plt\n",
    "\n",
    "\n",
    "plt.figure(figsize=(50,60))\n",
    "lgb.plot_importance(estimator, max_num_features=30)\n",
    "plt.title(\"Featurertances\")\n",
    "plt.show()"
   ]
  },
  {
   "cell_type": "code",
   "execution_count": 44,
   "metadata": {},
   "outputs": [
    {
     "data": {
      "text/plain": [
       "[51589,\n",
       " 30224,\n",
       " 429,\n",
       " 8372,\n",
       " 34454,\n",
       " 29411,\n",
       " 18861,\n",
       " 1354,\n",
       " 18406,\n",
       " 17619,\n",
       " 3784,\n",
       " 15378,\n",
       " 11479,\n",
       " 38538,\n",
       " 33932,\n",
       " 835,\n",
       " 14776,\n",
       " 5506,\n",
       " 12424,\n",
       " 988,\n",
       " 15155,\n",
       " 5921,\n",
       " 10191,\n",
       " 13499,\n",
       " 6641,\n",
       " 5528,\n",
       " 5837,\n",
       " 2146,\n",
       " 2524,\n",
       " 2013,\n",
       " 9136,\n",
       " 17090,\n",
       " 15717,\n",
       " 562,\n",
       " 2383,\n",
       " 17982,\n",
       " 15708,\n",
       " 5881,\n",
       " 7727]"
      ]
     },
     "execution_count": 44,
     "metadata": {},
     "output_type": "execute_result"
    }
   ],
   "source": [
    "estimator.feature_importance())"
   ]
  },
  {
   "cell_type": "code",
   "execution_count": 43,
   "metadata": {},
   "outputs": [
    {
     "data": {
      "text/plain": [
       "['building_id',\n",
       " 'meter',\n",
       " 'site_id',\n",
       " 'primary_use',\n",
       " 'square_feet',\n",
       " 'year_built',\n",
       " 'floor_count',\n",
       " 'utc',\n",
       " 'new_floor_count',\n",
       " 'new_year_built',\n",
       " 'square_feet_log',\n",
       " 'is_holiday',\n",
       " 'weekday_cos',\n",
       " 'weekday_sin',\n",
       " 'weekday',\n",
       " 'hour_cos',\n",
       " 'hour_sin',\n",
       " 'year_cos',\n",
       " 'year_sin',\n",
       " 'night_time',\n",
       " 'morning',\n",
       " 'afternoon',\n",
       " 'evening',\n",
       " 'is_day_saving',\n",
       " 'sea_level_pressure',\n",
       " 'dew_temperature',\n",
       " 'wind_speed',\n",
       " 'cloud_coverage',\n",
       " 'wind_direction',\n",
       " 'precip_depth_1_hr',\n",
       " 'air_temperature',\n",
       " 'uvIndex',\n",
       " 'cloudCover',\n",
       " 'humidity',\n",
       " 'latitude',\n",
       " 'longitude',\n",
       " 'irradiance_cloud',\n",
       " 'new_feels_like',\n",
       " 'radiation',\n",
       " 'sea_level_pressure_mean_lag72',\n",
       " 'sea_level_pressure_max_lag72',\n",
       " 'sea_level_pressure_min_lag72',\n",
       " 'sea_level_pressure_std_lag72',\n",
       " 'dew_temperature_mean_lag72',\n",
       " 'dew_temperature_max_lag72',\n",
       " 'dew_temperature_min_lag72',\n",
       " 'dew_temperature_std_lag72',\n",
       " 'wind_speed_mean_lag72',\n",
       " 'wind_speed_max_lag72',\n",
       " 'wind_speed_min_lag72',\n",
       " 'wind_speed_std_lag72',\n",
       " 'cloud_coverage_mean_lag72',\n",
       " 'cloud_coverage_max_lag72',\n",
       " 'cloud_coverage_min_lag72',\n",
       " 'cloud_coverage_std_lag72',\n",
       " 'wind_direction_mean_lag72',\n",
       " 'wind_direction_max_lag72',\n",
       " 'wind_direction_min_lag72',\n",
       " 'wind_direction_std_lag72',\n",
       " 'precip_depth_1_hr_mean_lag72',\n",
       " 'precip_depth_1_hr_max_lag72',\n",
       " 'precip_depth_1_hr_min_lag72',\n",
       " 'precip_depth_1_hr_std_lag72',\n",
       " 'air_temperature_mean_lag72',\n",
       " 'air_temperature_max_lag72',\n",
       " 'air_temperature_min_lag72',\n",
       " 'air_temperature_std_lag72',\n",
       " 'uvIndex_mean_lag72',\n",
       " 'uvIndex_max_lag72',\n",
       " 'uvIndex_min_lag72',\n",
       " 'uvIndex_std_lag72',\n",
       " 'cloudCover_mean_lag72',\n",
       " 'cloudCover_max_lag72',\n",
       " 'cloudCover_min_lag72',\n",
       " 'cloudCover_std_lag72',\n",
       " 'humidity_mean_lag72',\n",
       " 'humidity_max_lag72',\n",
       " 'humidity_min_lag72',\n",
       " 'humidity_std_lag72',\n",
       " 'latitude_mean_lag72',\n",
       " 'latitude_max_lag72',\n",
       " 'latitude_min_lag72',\n",
       " 'latitude_std_lag72',\n",
       " 'longitude_mean_lag72',\n",
       " 'longitude_max_lag72',\n",
       " 'longitude_min_lag72',\n",
       " 'longitude_std_lag72',\n",
       " 'irradiance_cloud_mean_lag72',\n",
       " 'irradiance_cloud_max_lag72',\n",
       " 'irradiance_cloud_min_lag72',\n",
       " 'irradiance_cloud_std_lag72',\n",
       " 'new_feels_like_mean_lag72',\n",
       " 'new_feels_like_max_lag72',\n",
       " 'new_feels_like_min_lag72',\n",
       " 'new_feels_like_std_lag72',\n",
       " 'radiation_mean_lag72',\n",
       " 'radiation_max_lag72',\n",
       " 'radiation_min_lag72',\n",
       " 'radiation_std_lag72',\n",
       " 'beaufort_scale',\n",
       " 'year',\n",
       " 'month',\n",
       " 'day',\n",
       " 'hour',\n",
       " 'age',\n",
       " 'hours_passed']"
      ]
     },
     "execution_count": 43,
     "metadata": {},
     "output_type": "execute_result"
    }
   ],
   "source": [
    "features"
   ]
  },
  {
   "cell_type": "code",
   "execution_count": null,
   "metadata": {},
   "outputs": [],
   "source": []
  },
  {
   "cell_type": "code",
   "execution_count": null,
   "metadata": {},
   "outputs": [],
   "source": [
    "i = 0\n",
    "step = 100000\n",
    "test['pred'] = np.nan\n",
    "while i < test.shape[0]:\n",
    "    test.loc[i:(i+step-1),'pred'] = estimator.predict(test.iloc[i:(i+step)][features])\n",
    "    i = i + step\n",
    "    gc.collect()\n",
    "print(\"Done with the test prediction\")"
   ]
  },
  {
   "cell_type": "code",
   "execution_count": null,
   "metadata": {},
   "outputs": [],
   "source": [
    "test.dtypes"
   ]
  },
  {
   "cell_type": "code",
   "execution_count": null,
   "metadata": {},
   "outputs": [],
   "source": [
    "train.dtypes"
   ]
  },
  {
   "cell_type": "code",
   "execution_count": null,
   "metadata": {},
   "outputs": [],
   "source": [
    "test['meter_reading_log'].loc[0:100].plot()\n",
    "test['pred'].loc[0:100].plot()"
   ]
  },
  {
   "cell_type": "code",
   "execution_count": null,
   "metadata": {},
   "outputs": [],
   "source": [
    "start = 26600\n",
    "end = 26700\n",
    "test['meter_reading_log'].iloc[start:end].plot()\n",
    "test['pred'].iloc[start:end].plot()"
   ]
  },
  {
   "cell_type": "markdown",
   "metadata": {},
   "source": [
    "# Save results"
   ]
  },
  {
   "cell_type": "code",
   "execution_count": null,
   "metadata": {},
   "outputs": [],
   "source": [
    "mean_performance_leaked = mean_performance_leaked/n_split\n",
    "mean_performance_test = mean_performance_test/n_split\n",
    "mean_performance_train = mean_performance_train/n_split\n",
    "\n",
    "with open(r'./models/perf_leaked.csv', 'a') as f:\n",
    "    writer = csv.writer(f)\n",
    "    writer.writerow([cv_method, 'avg', mean_performance_train, mean_performance_test, mean_performance_leaked])"
   ]
  },
  {
   "cell_type": "markdown",
   "metadata": {},
   "source": [
    "# Backup Code"
   ]
  },
  {
   "cell_type": "code",
   "execution_count": null,
   "metadata": {},
   "outputs": [],
   "source": [
    "beaufort = [(0, 0, 0.3), (1, 0.3, 1.6), (2, 1.6, 3.4), (3, 3.4, 5.5), (4, 5.5, 8), (5, 8, 10.8), (6, 10.8, 13.9), \n",
    "          (7, 13.9, 17.2), (8, 17.2, 20.8), (9, 20.8, 24.5), (10, 24.5, 28.5), (11, 28.5, 33), (12, 33, 200)]\n",
    "\n",
    "for item in beaufort:\n",
    "    train.loc[(train['wind_speed']>=item[1]) & (train['wind_speed']<item[2]), 'beaufort_scale'] = item[0]\n",
    "    train.loc[(train['new_wind_speed']>=item[1]) & (train['new_wind_speed']<item[2]), 'beaufort_scale'] = item[0]"
   ]
  },
  {
   "cell_type": "code",
   "execution_count": null,
   "metadata": {},
   "outputs": [],
   "source": [
    "le = LabelEncoder()\n",
    "\n",
    "for f in ['meter','primary_use','is_day_saving','is_holiday']:\n",
    "    train[f] = train[f].astype('category')\n",
    "    train[f] = le.fit_transform(train[f])"
   ]
  }
 ],
 "metadata": {
  "kernelspec": {
   "display_name": "Python 3",
   "language": "python",
   "name": "python3"
  },
  "language_info": {
   "codemirror_mode": {
    "name": "ipython",
    "version": 3
   },
   "file_extension": ".py",
   "mimetype": "text/x-python",
   "name": "python",
   "nbconvert_exporter": "python",
   "pygments_lexer": "ipython3",
   "version": "3.7.3"
  }
 },
 "nbformat": 4,
 "nbformat_minor": 2
}
