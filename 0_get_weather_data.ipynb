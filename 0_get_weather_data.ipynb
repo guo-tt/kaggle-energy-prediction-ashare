{
 "cells": [
  {
   "cell_type": "code",
   "execution_count": 3,
   "metadata": {},
   "outputs": [],
   "source": [
    "import urllib.request\n",
    "import pandas as pd\n",
    "import json\n",
    "import glob"
   ]
  },
  {
   "cell_type": "code",
   "execution_count": 8,
   "metadata": {},
   "outputs": [],
   "source": [
    "dfs=[]\n",
    "\n",
    "dates = pd.date_range('2018-09-27','2018-12-31')\n",
    "\n",
    "keys = pd.read_csv('../data/keys_darksky.csv')['key']\n",
    "\n",
    "cities = pd.read_csv('../data/cities_info.csv')[['site_id','location']]"
   ]
  },
  {
   "cell_type": "code",
   "execution_count": 9,
   "metadata": {
    "scrolled": true
   },
   "outputs": [],
   "source": [
    "# lat_long = (29.4241,-98.4936)\n",
    "\n",
    "# for date in dates:\n",
    "#     time = str(date)[0:10]\n",
    "#     url = f'https://api.darksky.net/forecast/{key}/{lat_long[0]},{lat_long[1]},{time}T00:00:00Z'\n",
    "#     url = url + '?lang=en&exclude=currently,minutely,daily,alerts,flags&units=si'\n",
    "#     print(url)\n",
    "#     r = urllib.request.urlopen(url)\n",
    "#     s = r.read()\n",
    "#     s = json.loads(s.decode(\"utf-8\"))\n",
    "#     df = pd.DataFrame(s['hourly']['data'])\n",
    "#     dfs.append(df)\n",
    "#     print('done')"
   ]
  },
  {
   "cell_type": "code",
   "execution_count": 10,
   "metadata": {},
   "outputs": [
    {
     "name": "stderr",
     "output_type": "stream",
     "text": [
      "/anaconda3/envs/kaggle/lib/python3.7/site-packages/ipykernel_launcher.py:1: FutureWarning: Sorting because non-concatenation axis is not aligned. A future version\n",
      "of pandas will change to not sort by default.\n",
      "\n",
      "To accept the future behavior, pass 'sort=False'.\n",
      "\n",
      "To retain the current behavior and silence the warning, pass 'sort=True'.\n",
      "\n",
      "  \"\"\"Entry point for launching an IPython kernel.\n"
     ]
    }
   ],
   "source": [
    "# df_all = pd.concat(dfs,axis=0)\n",
    "# df_all = df_all[~df_all.duplicated()]\n",
    "# df_all['site_id']=9\n",
    "# df_all.to_csv('../data/darksky/all_sanantonio.csv',index=False)"
   ]
  },
  {
   "cell_type": "markdown",
   "metadata": {},
   "source": [
    "# Combine all files together"
   ]
  },
  {
   "cell_type": "code",
   "execution_count": 6,
   "metadata": {},
   "outputs": [
    {
     "name": "stderr",
     "output_type": "stream",
     "text": [
      "/anaconda3/envs/kaggle/lib/python3.7/site-packages/ipykernel_launcher.py:11: FutureWarning: Sorting because non-concatenation axis is not aligned. A future version\n",
      "of pandas will change to not sort by default.\n",
      "\n",
      "To accept the future behavior, pass 'sort=False'.\n",
      "\n",
      "To retain the current behavior and silence the warning, pass 'sort=True'.\n",
      "\n",
      "  # This is added back by InteractiveShellApp.init_path()\n"
     ]
    }
   ],
   "source": [
    "files_list = glob.glob(\"../data/darksky/*.csv\")\n",
    "files_list = [f for f in files_list if 'all_data' not in f]\n",
    "\n",
    "df_list = []\n",
    "for f in files_list:\n",
    "    df = pd.read_csv(f)\n",
    "    df['site_id'] = cities[cities['location']==f[20:-4]].index[0]\n",
    "    df_list.append(df) \n",
    "    \n",
    "df_list = pd.concat(df_list,axis=0)"
   ]
  },
  {
   "cell_type": "code",
   "execution_count": 7,
   "metadata": {},
   "outputs": [],
   "source": [
    "df_list.to_csv('../data/darksky/all_data.csv',index=False)"
   ]
  },
  {
   "cell_type": "code",
   "execution_count": null,
   "metadata": {},
   "outputs": [],
   "source": []
  }
 ],
 "metadata": {
  "kernelspec": {
   "display_name": "Python 3",
   "language": "python",
   "name": "python3"
  },
  "language_info": {
   "codemirror_mode": {
    "name": "ipython",
    "version": 3
   },
   "file_extension": ".py",
   "mimetype": "text/x-python",
   "name": "python",
   "nbconvert_exporter": "python",
   "pygments_lexer": "ipython3",
   "version": "3.7.5"
  }
 },
 "nbformat": 4,
 "nbformat_minor": 2
}
