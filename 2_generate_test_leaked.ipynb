{
 "cells": [
  {
   "cell_type": "markdown",
   "metadata": {
    "_cell_guid": "e572fe83-6e0c-490f-9287-c8b9ef1b754d",
    "_uuid": "75e9694d-65bc-4826-82df-8d2a1a029c91"
   },
   "source": [
    "This is include site0 & site1 & asu & site 4"
   ]
  },
  {
   "cell_type": "code",
   "execution_count": 1,
   "metadata": {
    "_cell_guid": "13e53d85-dfc4-473f-bd04-60442b31fda1",
    "_uuid": "d5ca63e7-a6eb-4bbc-b4b8-bdf0fd3027cc"
   },
   "outputs": [],
   "source": [
    "import warnings\n",
    "warnings.filterwarnings('ignore')\n",
    "import os\n",
    "import gc\n",
    "import pickle\n",
    "import numpy as np\n",
    "import pandas as pd\n",
    "\n",
    "import feather"
   ]
  },
  {
   "cell_type": "markdown",
   "metadata": {},
   "source": [
    "# Generate leaked file"
   ]
  },
  {
   "cell_type": "markdown",
   "metadata": {},
   "source": [
    "Load data"
   ]
  },
  {
   "cell_type": "code",
   "execution_count": null,
   "metadata": {},
   "outputs": [],
   "source": [
    "path = '../data'\n",
    "leaked = feather.read_dataframe(f'{path}/Leaked/leak_isamu.feather')\n",
    "\n",
    "test = feather.read_dataframe(f'{path}/Prepared_data/test.feather')\n",
    "test['timestamp'] = pd.to_datetime(test['timestamp'])\n",
    "test.drop(columns='local_time',inplace=True)"
   ]
  },
  {
   "cell_type": "markdown",
   "metadata": {},
   "source": [
    "Leaked data "
   ]
  },
  {
   "cell_type": "code",
   "execution_count": null,
   "metadata": {},
   "outputs": [],
   "source": [
    "leaked_all = pd.merge(test, leaked, how='left', on=['building_id','meter','timestamp'])\n",
    "leaked_all = leaked_all.dropna(subset=['meter_reading'])\n",
    "\n",
    "leaked_all['row_id'] = leaked_all['row_id'].astype(int)\n",
    "leaked_all.sort_values('row_id',inplace=True)\n",
    "leaked_all.reset_index(drop=True,inplace=True)\n",
    "leaked_all[['row_id','meter_reading']].to_feather('../Leaked/leaked_submission.feather')"
   ]
  },
  {
   "cell_type": "code",
   "execution_count": null,
   "metadata": {},
   "outputs": [],
   "source": [
    "# leaked_path = '../data/Leaked'\n",
    "# leaked_path = '../../data-vol-3/Leaked_data'\n",
    "# leaked = feather.read_dataframe(f'{leaked_path}/leaked_submission.feather')\n",
    "\n",
    "# prepared_path = '../../data-vol-3/Prepared_data'\n",
    "# test = feather.read_dataframe(f'{prepared_path}/test_filled_na.feather')\n",
    "# test.set_index('row_id',inplace=True)\n",
    "# test = test.loc[leaked['row_id'].values]\n",
    "# test['meter_reading'] = leaked['meter_reading']\n",
    "\n",
    "# test.reset_index().to_feather(f'{prepared_path}/test_leaked_filled_na.feather')"
   ]
  },
  {
   "cell_type": "code",
   "execution_count": null,
   "metadata": {},
   "outputs": [],
   "source": [
    "# %%time\n",
    "# test = feather.read_dataframe(f'../../data-vol-3/Prepared_data/test_leaked_prepared.feather')\n",
    "# test.drop(columns=['utc','utc_time','altitude','azimuth'], inplace=True)\n",
    "# test.dropna(subset=['meter_reading'],inplace=True)\n",
    "# test = test[test['meter_reading']!=0].reset_index(drop=True)\n",
    "# gc.collect()\n",
    "\n",
    "# %%time\n",
    "# test = feather.read_dataframe(f\"{path}/Prepared_data/test_prepared.feather\")\n",
    "# test = test.set_index('row_id')\n",
    "# test = test.sort_index()\n",
    "# gc.collect()\n",
    "\n",
    "# leaked = feather.read_dataframe(f\"../../data-vol-3/Leaked_data/leaked_submission.feather\")\n",
    "# test = test.iloc[leaked['row_id'].values]\n",
    "# test['meter_reading'] = leaked['meter_reading']\n",
    "# test['meter_reading_log'] = np.log1p(test['meter_reading'])\n",
    "# test.reset_index(inplace=True)\n",
    "\n",
    "# del leaked\n",
    "# gc.collect()\n",
    "# test.to_feather(f'../../data-vol-3/Prepared_data/test_leaked_prepared.feather')"
   ]
  }
 ],
 "metadata": {
  "kernelspec": {
   "display_name": "Python 3",
   "language": "python",
   "name": "python3"
  },
  "language_info": {
   "codemirror_mode": {
    "name": "ipython",
    "version": 3
   },
   "file_extension": ".py",
   "mimetype": "text/x-python",
   "name": "python",
   "nbconvert_exporter": "python",
   "pygments_lexer": "ipython3",
   "version": "3.7.5"
  }
 },
 "nbformat": 4,
 "nbformat_minor": 1
}
