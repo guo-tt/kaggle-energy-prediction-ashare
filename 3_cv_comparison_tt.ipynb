{
 "cells": [
  {
   "cell_type": "code",
   "execution_count": 27,
   "metadata": {},
   "outputs": [],
   "source": [
    "import numpy as np\n",
    "import pandas as pd\n",
    "from sklearn.model_selection import GroupShuffleSplit\n",
    "import random\n",
    "import gc\n",
    "import lightgbm as lgb\n",
    "import pickle\n",
    "import seaborn as sns\n",
    "import matplotlib.pyplot as plt\n",
    "import feather\n",
    "import os\n",
    "import glob\n",
    "import csv   \n",
    "from sklearn.metrics import mean_squared_error\n",
    "from sklearn.preprocessing import LabelEncoder\n",
    "import datetime"
   ]
  },
  {
   "cell_type": "markdown",
   "metadata": {},
   "source": [
    "Set seed"
   ]
  },
  {
   "cell_type": "code",
   "execution_count": 28,
   "metadata": {},
   "outputs": [],
   "source": [
    "seed = 7\n",
    "random.seed(seed)\n",
    "np.random.seed(seed)"
   ]
  },
  {
   "cell_type": "code",
   "execution_count": 29,
   "metadata": {},
   "outputs": [],
   "source": [
    "pd.set_option('display.max_rows', 500)\n",
    "pd.set_option('display.max_columns', 500)\n",
    "pd.set_option('display.width', 1000)"
   ]
  },
  {
   "cell_type": "markdown",
   "metadata": {},
   "source": [
    "# Functions"
   ]
  },
  {
   "cell_type": "code",
   "execution_count": 30,
   "metadata": {},
   "outputs": [],
   "source": [
    "def reduce_mem_usage(df, verbose=True):\n",
    "    numerics = ['int16', 'int32', 'int64', 'float16', 'float32', 'float64']\n",
    "    start_mem = df.memory_usage().sum() / 1024**2    \n",
    "    for col in df.columns:\n",
    "        col_type = df[col].dtypes\n",
    "        if col_type in numerics:\n",
    "            c_min = df[col].min()\n",
    "            c_max = df[col].max()\n",
    "            if str(col_type)[:3] == 'int':\n",
    "                if c_min > np.iinfo(np.int8).min and c_max < np.iinfo(np.int8).max:\n",
    "                    df[col] = df[col].astype(np.int8)\n",
    "                elif c_min > np.iinfo(np.int16).min and c_max < np.iinfo(np.int16).max:\n",
    "                    df[col] = df[col].astype(np.int16)\n",
    "                elif c_min > np.iinfo(np.int32).min and c_max < np.iinfo(np.int32).max:\n",
    "                    df[col] = df[col].astype(np.int32)\n",
    "                elif c_min > np.iinfo(np.int64).min and c_max < np.iinfo(np.int64).max:\n",
    "                    df[col] = df[col].astype(np.int64)  \n",
    "            else:\n",
    "                if c_min > np.finfo(np.float16).min and c_max < np.finfo(np.float16).max:\n",
    "                    df[col] = df[col].astype(np.float16)\n",
    "                elif c_min > np.finfo(np.float32).min and c_max < np.finfo(np.float32).max:\n",
    "                    df[col] = df[col].astype(np.float32)\n",
    "                else:\n",
    "                    df[col] = df[col].astype(np.float64)    \n",
    "    end_mem = df.memory_usage().sum() / 1024**2\n",
    "    if verbose: print('Mem. usage decreased to {:5.2f} Mb ({:.1f}% reduction)'.format(end_mem, 100 * (start_mem - end_mem) / start_mem))\n",
    "    return df"
   ]
  },
  {
   "cell_type": "code",
   "execution_count": 31,
   "metadata": {},
   "outputs": [],
   "source": [
    "def fill_weather_dataset(weather_df):\n",
    "    \n",
    "    # Find Missing Dates\n",
    "#     time_format = \"%Y-%m-%d %H:%M:%S\"\n",
    "#     start_date = datetime.datetime.strptime(weather_df['timestamp'].min(),time_format)\n",
    "#     end_date = datetime.datetime.strptime(weather_df['timestamp'].max(),time_format)\n",
    "#     start_date = weather_df['timestamp'].min()\n",
    "#     end_date = weather_df['timestamp'].max()\n",
    "#     total_hours = int(((end_date - start_date).total_seconds() + 3600) / 3600)\n",
    "#     hours_list = [(end_date - datetime.timedelta(hours=x)).strftime(time_format) for x in range(total_hours)]\n",
    "\n",
    "#     missing_hours = []\n",
    "#     for site_id in range(16):\n",
    "#         site_hours = np.array(weather_df[weather_df['site_id'] == site_id]['timestamp'])\n",
    "#         new_rows = pd.DataFrame(np.setdiff1d(hours_list,site_hours),columns=['timestamp'])\n",
    "#         new_rows['site_id'] = site_id\n",
    "#         weather_df = pd.concat([weather_df,new_rows])\n",
    "\n",
    "#         weather_df = weather_df.reset_index(drop=True)           \n",
    "\n",
    "    # Add new Features\n",
    "    weather_df[\"datetime\"] = pd.to_datetime(weather_df[\"timestamp\"])\n",
    "    weather_df[\"day\"] = weather_df[\"datetime\"].dt.day\n",
    "    weather_df[\"week\"] = weather_df[\"datetime\"].dt.week\n",
    "    weather_df[\"month\"] = weather_df[\"datetime\"].dt.month\n",
    "    \n",
    "    # Reset Index for Fast Update\n",
    "    weather_df = weather_df.set_index(['site_id','day','month'])\n",
    "\n",
    "    air_temperature_filler = pd.DataFrame(weather_df.groupby(['site_id','day','month'])['air_temperature'].mean(),columns=[\"air_temperature\"])\n",
    "    weather_df.update(air_temperature_filler,overwrite=False) \n",
    "    new_air_temperature_filler = pd.DataFrame(weather_df.groupby(['site_id','day','month'])['new_air_temperature'].mean(),columns=[\"new_air_temperature\"])\n",
    "    weather_df.update(new_air_temperature_filler,overwrite=False)\n",
    "\n",
    "    cloud_coverage_filler = weather_df.groupby(['site_id','day','month'])['cloud_coverage'].mean()\n",
    "    cloud_coverage_filler = pd.DataFrame(cloud_coverage_filler.fillna(method='ffill'),columns=[\"cloud_coverage\"])\n",
    "    weather_df.update(cloud_coverage_filler,overwrite=False)\n",
    "    \n",
    "    new_cloud_coverage_filler = weather_df.groupby(['site_id','day','month'])['new_cloud_coverage'].mean()\n",
    "    new_cloud_coverage_filler = pd.DataFrame(new_cloud_coverage_filler.fillna(method='ffill'),columns=[\"new_cloud_coverage\"])\n",
    "    weather_df.update(new_cloud_coverage_filler,overwrite=False)\n",
    "    \n",
    "    due_temperature_filler = pd.DataFrame(weather_df.groupby(['site_id','day','month'])['dew_temperature'].mean(),columns=[\"dew_temperature\"])\n",
    "    weather_df.update(due_temperature_filler,overwrite=False)\n",
    "    new_due_temperature_filler = pd.DataFrame(weather_df.groupby(['site_id','day','month'])['new_dew_temperature'].mean(),columns=[\"new_dew_temperature\"])\n",
    "    weather_df.update(new_due_temperature_filler,overwrite=False)\n",
    "\n",
    "    sea_level_filler = weather_df.groupby(['site_id','day','month'])['sea_level_pressure'].mean()\n",
    "    sea_level_filler = pd.DataFrame(sea_level_filler.fillna(method='ffill'),columns=['sea_level_pressure'])\n",
    "    weather_df.update(sea_level_filler,overwrite=False)\n",
    "    \n",
    "    new_sea_level_filler = weather_df.groupby(['site_id','day','month'])['new_sea_level_pressure'].mean()\n",
    "    new_sea_level_filler = pd.DataFrame(new_sea_level_filler.fillna(method='ffill'),columns=['new_sea_level_pressure'])\n",
    "    weather_df.update(new_sea_level_filler,overwrite=False)\n",
    "\n",
    "#     wind_direction_filler =  pd.DataFrame(weather_df.groupby(['site_id','day','month'])['wind_direction'].mean(),columns=['wind_direction'])\n",
    "#     weather_df.update(wind_direction_filler,overwrite=False)\n",
    "    \n",
    "#     new_wind_direction_filler =  pd.DataFrame(weather_df.groupby(['site_id','day','month'])['new_wind_direction'].mean(),columns=['new_wind_direction'])\n",
    "#     weather_df.update(new_wind_direction_filler,overwrite=False)\n",
    "\n",
    "    wind_speed_filler =  pd.DataFrame(weather_df.groupby(['site_id','day','month'])['wind_speed'].mean(),columns=['wind_speed'])\n",
    "    weather_df.update(wind_speed_filler,overwrite=False)\n",
    "    new_wind_speed_filler =  pd.DataFrame(weather_df.groupby(['site_id','day','month'])['new_wind_speed'].mean(),columns=['new_wind_speed'])\n",
    "    weather_df.update(new_wind_speed_filler,overwrite=False)\n",
    "\n",
    "    precip_depth_filler = weather_df.groupby(['site_id','day','month'])['precip_depth_1_hr'].mean()\n",
    "    precip_depth_filler = pd.DataFrame(precip_depth_filler.fillna(method='ffill'),columns=['precip_depth_1_hr'])\n",
    "    weather_df.update(precip_depth_filler,overwrite=False)\n",
    "    \n",
    "    new_precip_depth_filler = weather_df.groupby(['site_id','day','month'])['new_precip_depth_1_hr'].mean()\n",
    "    new_precip_depth_filler = pd.DataFrame(new_precip_depth_filler.fillna(method='ffill'),columns=['new_precip_depth_1_hr'])\n",
    "    weather_df.update(new_precip_depth_filler,overwrite=False)\n",
    "    \n",
    "    uvIndex_filler =  pd.DataFrame(weather_df.groupby(['site_id','day','month'])['uvIndex'].mean(),columns=['uvIndex'])\n",
    "    weather_df.update(uvIndex_filler,overwrite=False)\n",
    "    \n",
    "    cloudCover_filler =  pd.DataFrame(weather_df.groupby(['site_id','day','month'])['cloudCover'].mean(),columns=['cloudCover'])\n",
    "    weather_df.update(cloudCover_filler,overwrite=False)\n",
    "    \n",
    "    humidity_filler =  pd.DataFrame(weather_df.groupby(['site_id','day','month'])['humidity'].mean(),columns=['humidity'])\n",
    "    weather_df.update(humidity_filler,overwrite=False)\n",
    "    \n",
    "    irradiance_cloud_filler =  pd.DataFrame(weather_df.groupby(['site_id','day','month'])['irradiance_cloud'].mean(),columns=['irradiance_cloud'])\n",
    "    weather_df.update(irradiance_cloud_filler,overwrite=False)\n",
    "    \n",
    "    feels_like_filler =  pd.DataFrame(weather_df.groupby(['site_id','day','month'])['feels_like'].mean(),columns=['feels_like'])\n",
    "    weather_df.update(feels_like_filler,overwrite=False)\n",
    "    \n",
    "    new_feels_like_filler =  pd.DataFrame(weather_df.groupby(['site_id','day','month'])['new_feels_like'].mean(),columns=['new_feels_like'])\n",
    "    weather_df.update(new_feels_like_filler,overwrite=False)\n",
    "    \n",
    "    weather_df = weather_df.reset_index()\n",
    "    weather_df = weather_df.drop(['datetime','day','week','month'],axis=1)\n",
    "        \n",
    "    return weather_df\n"
   ]
  },
  {
   "cell_type": "markdown",
   "metadata": {},
   "source": [
    "# Load data"
   ]
  },
  {
   "cell_type": "markdown",
   "metadata": {},
   "source": [
    "## weather"
   ]
  },
  {
   "cell_type": "code",
   "execution_count": 38,
   "metadata": {},
   "outputs": [
    {
     "name": "stdout",
     "output_type": "stream",
     "text": [
      "CPU times: user 69.7 ms, sys: 51 ms, total: 121 ms\n",
      "Wall time: 23.1 ms\n"
     ]
    }
   ],
   "source": [
    "%%time\n",
    "weather = feather.read_dataframe('../../data-vol-2/Prepared_data/weather.feather')\n",
    "#weather['timestamp'] = weather['timestamp'].astype(str)\n",
    "#weather['timestamp'] = pd.to_datetime(weather['timestamp'])"
   ]
  },
  {
   "cell_type": "code",
   "execution_count": 33,
   "metadata": {},
   "outputs": [
    {
     "data": {
      "text/plain": [
       "['site_id',\n",
       " 'timestamp',\n",
       " 'air_temperature',\n",
       " 'cloud_coverage',\n",
       " 'dew_temperature',\n",
       " 'precip_depth_1_hr',\n",
       " 'sea_level_pressure',\n",
       " 'wind_speed',\n",
       " 'new_sea_level_pressure',\n",
       " 'new_dew_temperature',\n",
       " 'new_wind_speed',\n",
       " 'new_cloud_coverage',\n",
       " 'new_precip_depth_1_hr',\n",
       " 'new_air_temperature',\n",
       " 'uvIndex',\n",
       " 'cloudCover',\n",
       " 'humidity',\n",
       " 'latitude',\n",
       " 'longitude',\n",
       " 'irradiance',\n",
       " 'irradiance_cloud',\n",
       " 'feels_like',\n",
       " 'new_feels_like',\n",
       " 'altitude',\n",
       " 'azimuth',\n",
       " 'radiation',\n",
       " 'air_temperature_mean_lag72',\n",
       " 'air_temperature_max_lag72',\n",
       " 'air_temperature_min_lag72',\n",
       " 'air_temperature_std_lag72',\n",
       " 'cloudCover_mean_lag72',\n",
       " 'cloudCover_max_lag72',\n",
       " 'cloudCover_min_lag72',\n",
       " 'cloudCover_std_lag72',\n",
       " 'beaufort_scale',\n",
       " 'wind_direction_cos',\n",
       " 'wind_direction_sin',\n",
       " 'new_wind_direction_cos',\n",
       " 'new_wind_direction_sin']"
      ]
     },
     "execution_count": 33,
     "metadata": {},
     "output_type": "execute_result"
    }
   ],
   "source": [
    "list(weather.columns.values)"
   ]
  },
  {
   "cell_type": "code",
   "execution_count": 45,
   "metadata": {},
   "outputs": [
    {
     "data": {
      "text/plain": [
       "site_id                       0.000000\n",
       "timestamp                     0.000000\n",
       "sea_level_pressure            0.000000\n",
       "dew_temperature               0.000000\n",
       "wind_speed                    0.000000\n",
       "cloud_coverage                0.000000\n",
       "precip_depth_1_hr             0.000000\n",
       "air_temperature               0.000000\n",
       "uvIndex                       0.000000\n",
       "cloudCover                    0.000000\n",
       "humidity                      0.000000\n",
       "latitude                      0.000000\n",
       "longitude                     0.000000\n",
       "irradiance_cloud              0.000000\n",
       "new_feels_like                0.000000\n",
       "radiation                     0.000000\n",
       "air_temperature_mean_lag72    0.001271\n",
       "air_temperature_max_lag72     0.001271\n",
       "air_temperature_min_lag72     0.001271\n",
       "air_temperature_std_lag72     0.001341\n",
       "cloudCover_mean_lag72         0.000065\n",
       "cloudCover_max_lag72          0.000065\n",
       "cloudCover_min_lag72          0.000065\n",
       "cloudCover_std_lag72          0.000114\n",
       "beaufort_scale                0.005312\n",
       "wind_direction_cos            0.010227\n",
       "wind_direction_sin            0.010227\n",
       "new_wind_direction_cos        0.009344\n",
       "new_wind_direction_sin        0.009344\n",
       "dtype: float64"
      ]
     },
     "execution_count": 45,
     "metadata": {},
     "output_type": "execute_result"
    }
   ],
   "source": [
    "weather.isna().sum()/len(weather)"
   ]
  },
  {
   "cell_type": "code",
   "execution_count": 39,
   "metadata": {},
   "outputs": [],
   "source": [
    "weather = fill_weather_dataset(weather)"
   ]
  },
  {
   "cell_type": "code",
   "execution_count": 41,
   "metadata": {},
   "outputs": [],
   "source": [
    "weather.drop(['air_temperature', 'cloud_coverage',\n",
    "       'dew_temperature', 'precip_depth_1_hr', 'sea_level_pressure',\n",
    "       'wind_speed','feels_like','altitude', 'azimuth', 'irradiance'],axis = 1, inplace=True)\n",
    "\n",
    "weather.rename(columns = {'new_sea_level_pressure':'sea_level_pressure', 'new_dew_temperature': 'dew_temperature',\n",
    "               'new_wind_speed':'wind_speed','new_cloud_coverage':'cloud_coverage', \n",
    "                'new_wind_direction':'wind_direction','new_precip_depth_1_hr':'precip_depth_1_hr', \n",
    "                'new_air_temperature':'air_temperature'},inplace=True)"
   ]
  },
  {
   "cell_type": "markdown",
   "metadata": {},
   "source": [
    "## Train data"
   ]
  },
  {
   "cell_type": "code",
   "execution_count": 140,
   "metadata": {},
   "outputs": [
    {
     "name": "stdout",
     "output_type": "stream",
     "text": [
      "CPU times: user 6.79 s, sys: 3.64 s, total: 10.4 s\n",
      "Wall time: 2.36 s\n"
     ]
    }
   ],
   "source": [
    "%%time\n",
    "train = feather.read_dataframe('../../data-vol-2/Prepared_data/train_prepared.feather')\n",
    "train['timestamp'] = pd.to_datetime(train['timestamp'])\n",
    "train['meter_reading'] = np.log1p(train['meter_reading'])\n",
    "#train.drop(columns=['utc','utc_time','altitude','azimuth'], inplace=True)\n"
   ]
  },
  {
   "cell_type": "code",
   "execution_count": 142,
   "metadata": {},
   "outputs": [
    {
     "data": {
      "text/plain": [
       "['building_id',\n",
       " 'meter',\n",
       " 'meter_reading',\n",
       " 'site_id',\n",
       " 'primary_use',\n",
       " 'square_feet',\n",
       " 'year_built',\n",
       " 'floor_count',\n",
       " 'utc',\n",
       " 'new_floor_count',\n",
       " 'new_year_built',\n",
       " 'square_feet_log',\n",
       " 'is_holiday',\n",
       " 'weekday_cos',\n",
       " 'weekday_sin',\n",
       " 'weekday',\n",
       " 'hour_cos',\n",
       " 'hour_sin',\n",
       " 'year_cos',\n",
       " 'year_sin',\n",
       " 'night_time',\n",
       " 'morning',\n",
       " 'afternoon',\n",
       " 'evening',\n",
       " 'is_day_saving',\n",
       " 'utc_time',\n",
       " 'suspicious_1',\n",
       " 'suspicious_2',\n",
       " 'age',\n",
       " 'timestamp',\n",
       " 'air_temperature_mean_lag72',\n",
       " 'air_temperature_max_lag72',\n",
       " 'air_temperature_min_lag72',\n",
       " 'air_temperature_std_lag72',\n",
       " 'cloudCover_mean_lag72',\n",
       " 'cloudCover_max_lag72',\n",
       " 'cloudCover_min_lag72',\n",
       " 'cloudCover_std_lag72',\n",
       " 'beaufort_scale',\n",
       " 'wind_direction_cos',\n",
       " 'wind_direction_sin',\n",
       " 'new_wind_direction_cos',\n",
       " 'new_wind_direction_sin']"
      ]
     },
     "execution_count": 142,
     "metadata": {},
     "output_type": "execute_result"
    }
   ],
   "source": [
    "list(train.columns.values)"
   ]
  },
  {
   "cell_type": "code",
   "execution_count": 141,
   "metadata": {},
   "outputs": [],
   "source": [
    "train = train.drop(columns=['air_temperature',\n",
    "       'cloud_coverage', 'dew_temperature', 'precip_depth_1_hr',\n",
    "       'sea_level_pressure', 'wind_speed',\n",
    "       'new_sea_level_pressure', 'new_dew_temperature', 'new_wind_speed',\n",
    "       'new_cloud_coverage', 'new_precip_depth_1_hr',\n",
    "       'new_air_temperature', 'uvIndex', 'cloudCover', 'humidity', 'latitude',\n",
    "       'longitude', 'irradiance', 'irradiance_cloud', 'feels_like',\n",
    "       'new_feels_like', 'altitude', 'azimuth', 'radiation'])"
   ]
  },
  {
   "cell_type": "code",
   "execution_count": 143,
   "metadata": {},
   "outputs": [],
   "source": [
    "train = train.drop(columns=['air_temperature_mean_lag72',\n",
    " 'air_temperature_max_lag72',\n",
    " 'air_temperature_min_lag72',\n",
    " 'air_temperature_std_lag72',\n",
    " 'cloudCover_mean_lag72',\n",
    " 'cloudCover_max_lag72',\n",
    " 'cloudCover_min_lag72',\n",
    " 'cloudCover_std_lag72',\n",
    " 'beaufort_scale',\n",
    " 'wind_direction_cos',\n",
    " 'wind_direction_sin',\n",
    " 'new_wind_direction_cos',\n",
    " 'new_wind_direction_sin'],axis=1)"
   ]
  },
  {
   "cell_type": "code",
   "execution_count": 144,
   "metadata": {},
   "outputs": [
    {
     "data": {
      "text/plain": [
       "250"
      ]
     },
     "execution_count": 144,
     "metadata": {},
     "output_type": "execute_result"
    }
   ],
   "source": [
    "train = train[train['site_id'].isin([0,1,2])]\n",
    "gc.collect()"
   ]
  },
  {
   "cell_type": "code",
   "execution_count": 59,
   "metadata": {},
   "outputs": [
    {
     "data": {
      "text/plain": [
       "(4728246, 30)"
      ]
     },
     "execution_count": 59,
     "metadata": {},
     "output_type": "execute_result"
    }
   ],
   "source": [
    "train.shape"
   ]
  },
  {
   "cell_type": "code",
   "execution_count": 62,
   "metadata": {},
   "outputs": [
    {
     "data": {
      "text/plain": [
       "0.3175780194177714"
      ]
     },
     "execution_count": 62,
     "metadata": {},
     "output_type": "execute_result"
    }
   ],
   "source": [
    "(train[train['suspicious_1']==1].shape[0] + train[train['suspicious_2']==1].shape[0])/train.shape[0]"
   ]
  },
  {
   "cell_type": "code",
   "execution_count": 145,
   "metadata": {},
   "outputs": [],
   "source": [
    "train = train[(train['suspicious_1']==0) | (train['suspicious_2']==0)]"
   ]
  },
  {
   "cell_type": "code",
   "execution_count": 68,
   "metadata": {},
   "outputs": [
    {
     "data": {
      "text/plain": [
       "(4337560, 30)"
      ]
     },
     "execution_count": 68,
     "metadata": {},
     "output_type": "execute_result"
    }
   ],
   "source": [
    "train.shape"
   ]
  },
  {
   "cell_type": "code",
   "execution_count": 146,
   "metadata": {},
   "outputs": [],
   "source": [
    "train = train.merge(weather, on=['site_id', 'timestamp'], how='left')"
   ]
  },
  {
   "cell_type": "code",
   "execution_count": 147,
   "metadata": {},
   "outputs": [],
   "source": [
    "# train['year'] = train['timestamp'].dt.year\n",
    "# train['month'] = train['timestamp'].dt.month\n",
    "# train['day'] = train['timestamp'].dt.day\n",
    "# train['hour'] = train['timestamp'].dt.hour\n",
    "# train['weekday'] = train['timestamp'].dt.weekday\n",
    "# train['age'] = train['year'] - train['year_built']\n",
    "\n",
    "# pd.set_option('display.max_rows', 500)\n",
    "# cols = ['floor_count']\n",
    "# train.loc[:, cols] = train.loc[:, cols].interpolate(axis=0)\n",
    "\n",
    "new_df = train.groupby(by=['building_id'], as_index=False)['timestamp'].min()\n",
    "new_df = new_df.rename(columns = {'timestamp': 'start_ts'})\n",
    "train = train.merge(new_df, on = 'building_id', how='left')\n",
    "train['hours_passed'] = (train['timestamp'] - train['start_ts']).dt.total_seconds()/3600"
   ]
  },
  {
   "cell_type": "code",
   "execution_count": 148,
   "metadata": {},
   "outputs": [
    {
     "name": "stdout",
     "output_type": "stream",
     "text": [
      "Mem. usage decreased to 579.13 Mb (62.5% reduction)\n"
     ]
    }
   ],
   "source": [
    "train = reduce_mem_usage(train)"
   ]
  },
  {
   "cell_type": "markdown",
   "metadata": {},
   "source": [
    "## Test"
   ]
  },
  {
   "cell_type": "code",
   "execution_count": 149,
   "metadata": {},
   "outputs": [
    {
     "name": "stdout",
     "output_type": "stream",
     "text": [
      "CPU times: user 3.21 s, sys: 2.02 s, total: 5.23 s\n",
      "Wall time: 7.05 s\n"
     ]
    }
   ],
   "source": [
    "%%time\n",
    "test = feather.read_dataframe(f'../../data-vol-3/Prepared_data/test_leaked_prepared.feather')\n",
    "test.dropna(subset=['meter_reading'],inplace=True)"
   ]
  },
  {
   "cell_type": "code",
   "execution_count": 150,
   "metadata": {},
   "outputs": [
    {
     "data": {
      "text/plain": [
       "['row_id',\n",
       " 'building_id',\n",
       " 'meter',\n",
       " 'site_id',\n",
       " 'primary_use',\n",
       " 'square_feet',\n",
       " 'year_built',\n",
       " 'floor_count',\n",
       " 'utc',\n",
       " 'new_floor_count',\n",
       " 'new_year_built',\n",
       " 'square_feet_log',\n",
       " 'is_holiday',\n",
       " 'weekday_cos',\n",
       " 'weekday_sin',\n",
       " 'weekday',\n",
       " 'hour_cos',\n",
       " 'hour_sin',\n",
       " 'year_cos',\n",
       " 'year_sin',\n",
       " 'night_time',\n",
       " 'morning',\n",
       " 'afternoon',\n",
       " 'evening',\n",
       " 'is_day_saving',\n",
       " 'utc_time',\n",
       " 'timestamp',\n",
       " 'air_temperature',\n",
       " 'cloud_coverage',\n",
       " 'dew_temperature',\n",
       " 'precip_depth_1_hr',\n",
       " 'sea_level_pressure',\n",
       " 'wind_direction',\n",
       " 'wind_speed',\n",
       " 'new_sea_level_pressure',\n",
       " 'new_dew_temperature',\n",
       " 'new_wind_speed',\n",
       " 'new_cloud_coverage',\n",
       " 'new_wind_direction',\n",
       " 'new_precip_depth_1_hr',\n",
       " 'new_air_temperature',\n",
       " 'uvIndex',\n",
       " 'cloudCover',\n",
       " 'humidity',\n",
       " 'latitude',\n",
       " 'longitude',\n",
       " 'irradiance',\n",
       " 'irradiance_cloud',\n",
       " 'feels_like',\n",
       " 'new_feels_like',\n",
       " 'altitude',\n",
       " 'azimuth',\n",
       " 'radiation',\n",
       " 'meter_reading',\n",
       " 'meter_reading_log']"
      ]
     },
     "execution_count": 150,
     "metadata": {},
     "output_type": "execute_result"
    }
   ],
   "source": [
    "list(test.columns.values)"
   ]
  },
  {
   "cell_type": "code",
   "execution_count": 151,
   "metadata": {},
   "outputs": [],
   "source": [
    "test = test.drop(columns=['air_temperature',\n",
    " 'cloud_coverage',\n",
    " 'dew_temperature',\n",
    " 'precip_depth_1_hr',\n",
    " 'sea_level_pressure',\n",
    " 'wind_direction',\n",
    " 'wind_speed',\n",
    " 'new_sea_level_pressure',\n",
    " 'new_dew_temperature',\n",
    " 'new_wind_speed',\n",
    " 'new_cloud_coverage',\n",
    " 'new_wind_direction',\n",
    " 'new_precip_depth_1_hr',\n",
    " 'new_air_temperature',\n",
    " 'uvIndex',\n",
    " 'cloudCover',\n",
    " 'humidity',\n",
    " 'latitude',\n",
    " 'longitude',\n",
    " 'irradiance',\n",
    " 'irradiance_cloud',\n",
    " 'feels_like',\n",
    " 'new_feels_like',\n",
    " 'altitude',\n",
    " 'azimuth',\n",
    " 'radiation'])"
   ]
  },
  {
   "cell_type": "code",
   "execution_count": 152,
   "metadata": {},
   "outputs": [],
   "source": [
    "test = test.merge(weather, on=['site_id', 'timestamp'], how='left')"
   ]
  },
  {
   "cell_type": "code",
   "execution_count": 153,
   "metadata": {},
   "outputs": [],
   "source": [
    "# test['year'] = test['timestamp'].dt.year\n",
    "# test['month'] = test['timestamp'].dt.month\n",
    "# test['day'] = test['timestamp'].dt.day\n",
    "# test['hour'] = test['timestamp'].dt.hour\n",
    "# test['weekday'] = test['timestamp'].dt.weekday\n",
    "test['age'] = test['timestamp'].dt.year - test['year_built']\n",
    "\n",
    "pd.set_option('display.max_rows', 500)\n",
    "cols = ['floor_count']\n",
    "test.loc[:, cols] = test.loc[:, cols].interpolate(axis=0)\n",
    "\n",
    "new_df = test.groupby(by=['building_id'], as_index=False)['timestamp'].min()\n",
    "new_df = new_df.rename(columns = {'timestamp': 'start_ts'})\n",
    "test = test.merge(new_df, on = 'building_id', how='left')\n",
    "test['hours_passed'] = (test['timestamp'] - test['start_ts']).dt.total_seconds()/3600\n"
   ]
  },
  {
   "cell_type": "code",
   "execution_count": 85,
   "metadata": {},
   "outputs": [
    {
     "data": {
      "text/plain": [
       "array(['row_id', 'building_id', 'meter', 'site_id', 'primary_use',\n",
       "       'square_feet', 'year_built', 'floor_count', 'utc',\n",
       "       'new_floor_count', 'new_year_built', 'square_feet_log',\n",
       "       'is_holiday', 'weekday_cos', 'weekday_sin', 'weekday', 'hour_cos',\n",
       "       'hour_sin', 'year_cos', 'year_sin', 'night_time', 'morning',\n",
       "       'afternoon', 'evening', 'is_day_saving', 'utc_time', 'timestamp',\n",
       "       'meter_reading', 'meter_reading_log', 'sea_level_pressure',\n",
       "       'dew_temperature', 'wind_speed', 'cloud_coverage',\n",
       "       'precip_depth_1_hr', 'air_temperature', 'uvIndex', 'cloudCover',\n",
       "       'humidity', 'latitude', 'longitude', 'irradiance_cloud',\n",
       "       'new_feels_like', 'radiation', 'air_temperature_mean_lag72',\n",
       "       'air_temperature_max_lag72', 'air_temperature_min_lag72',\n",
       "       'air_temperature_std_lag72', 'cloudCover_mean_lag72',\n",
       "       'cloudCover_max_lag72', 'cloudCover_min_lag72',\n",
       "       'cloudCover_std_lag72', 'beaufort_scale', 'wind_direction_cos',\n",
       "       'wind_direction_sin', 'new_wind_direction_cos',\n",
       "       'new_wind_direction_sin', 'age', 'start_ts', 'hours_passed'],\n",
       "      dtype=object)"
      ]
     },
     "execution_count": 85,
     "metadata": {},
     "output_type": "execute_result"
    }
   ],
   "source": [
    "test.columns.values"
   ]
  },
  {
   "cell_type": "code",
   "execution_count": 154,
   "metadata": {},
   "outputs": [],
   "source": [
    "from sklearn import preprocessing\n",
    "le = preprocessing.LabelEncoder()\n",
    "\n",
    "cat_cols = ['meter', 'primary_use', 'site_id']\n",
    "\n",
    "for col in cat_cols:\n",
    "#     le.fit(train[col].append(test[col]).unique())\n",
    "#     train[col] = le.transform(train[col]) \n",
    "#     test[col] = pd.Series(test[col])\n",
    "    train[col] = train[col].astype('category')\n",
    "    test[col] = test[col].astype('category')"
   ]
  },
  {
   "cell_type": "code",
   "execution_count": 155,
   "metadata": {},
   "outputs": [
    {
     "name": "stdout",
     "output_type": "stream",
     "text": [
      "Mem. usage decreased to 1134.77 Mb (62.0% reduction)\n"
     ]
    }
   ],
   "source": [
    "test = reduce_mem_usage(test)"
   ]
  },
  {
   "cell_type": "code",
   "execution_count": 166,
   "metadata": {},
   "outputs": [],
   "source": [
    "col = 'site_id'"
   ]
  },
  {
   "cell_type": "code",
   "execution_count": 167,
   "metadata": {},
   "outputs": [
    {
     "data": {
      "text/plain": [
       "LabelEncoder()"
      ]
     },
     "execution_count": 167,
     "metadata": {},
     "output_type": "execute_result"
    }
   ],
   "source": [
    "le.fit(train[col].append(test[col]).unique())"
   ]
  },
  {
   "cell_type": "code",
   "execution_count": 168,
   "metadata": {},
   "outputs": [],
   "source": [
    "train[col] = le.transform(train[col]) \n",
    "test[col] = le.transform(test[col]) "
   ]
  },
  {
   "cell_type": "code",
   "execution_count": 169,
   "metadata": {},
   "outputs": [
    {
     "data": {
      "text/plain": [
       "set()"
      ]
     },
     "execution_count": 169,
     "metadata": {},
     "output_type": "execute_result"
    }
   ],
   "source": [
    "set(train[col]) - set(test[col])"
   ]
  },
  {
   "cell_type": "markdown",
   "metadata": {},
   "source": [
    "# Create train test split"
   ]
  },
  {
   "cell_type": "code",
   "execution_count": 170,
   "metadata": {},
   "outputs": [],
   "source": [
    "cv_method = 'stratified_month_usage'\n",
    "n_split = 5\n",
    "version = 2\n",
    "model_name = 'lgbm'\n",
    "\n",
    "train['split'] = (train['primary_use'] + train['timestamp'].dt.month - 1) % n_split"
   ]
  },
  {
   "cell_type": "code",
   "execution_count": 132,
   "metadata": {},
   "outputs": [
    {
     "data": {
      "text/plain": [
       "['building_id',\n",
       " 'meter',\n",
       " 'meter_reading',\n",
       " 'site_id',\n",
       " 'primary_use',\n",
       " 'square_feet',\n",
       " 'year_built',\n",
       " 'floor_count',\n",
       " 'utc',\n",
       " 'new_floor_count',\n",
       " 'new_year_built',\n",
       " 'square_feet_log',\n",
       " 'is_holiday',\n",
       " 'weekday_cos',\n",
       " 'weekday_sin',\n",
       " 'weekday',\n",
       " 'hour_cos',\n",
       " 'hour_sin',\n",
       " 'year_cos',\n",
       " 'year_sin',\n",
       " 'night_time',\n",
       " 'morning',\n",
       " 'afternoon',\n",
       " 'evening',\n",
       " 'is_day_saving',\n",
       " 'utc_time',\n",
       " 'suspicious_1',\n",
       " 'suspicious_2',\n",
       " 'age',\n",
       " 'timestamp',\n",
       " 'sea_level_pressure',\n",
       " 'dew_temperature',\n",
       " 'wind_speed',\n",
       " 'cloud_coverage',\n",
       " 'precip_depth_1_hr',\n",
       " 'air_temperature',\n",
       " 'uvIndex',\n",
       " 'cloudCover',\n",
       " 'humidity',\n",
       " 'latitude',\n",
       " 'longitude',\n",
       " 'irradiance_cloud',\n",
       " 'new_feels_like',\n",
       " 'radiation',\n",
       " 'air_temperature_mean_lag72',\n",
       " 'air_temperature_max_lag72',\n",
       " 'air_temperature_min_lag72',\n",
       " 'air_temperature_std_lag72',\n",
       " 'cloudCover_mean_lag72',\n",
       " 'cloudCover_max_lag72',\n",
       " 'cloudCover_min_lag72',\n",
       " 'cloudCover_std_lag72',\n",
       " 'beaufort_scale',\n",
       " 'wind_direction_cos',\n",
       " 'wind_direction_sin',\n",
       " 'new_wind_direction_cos',\n",
       " 'new_wind_direction_sin',\n",
       " 'start_ts',\n",
       " 'hours_passed',\n",
       " 'split']"
      ]
     },
     "execution_count": 132,
     "metadata": {},
     "output_type": "execute_result"
    }
   ],
   "source": [
    "list(train.columns.values)"
   ]
  },
  {
   "cell_type": "code",
   "execution_count": 133,
   "metadata": {},
   "outputs": [],
   "source": [
    "features = [col for col in train.columns if col not in ['meter_reading', 'split', 'suspicious_1', \n",
    "                                                        'suspicious_2','utc_time', 'timestamp', 'start_ts']]\n",
    "     \n",
    "target = 'meter_reading'"
   ]
  },
  {
   "cell_type": "markdown",
   "metadata": {},
   "source": [
    "# remove outliers"
   ]
  },
  {
   "cell_type": "code",
   "execution_count": 134,
   "metadata": {},
   "outputs": [],
   "source": [
    "train = train [train['building_id'] != 1099 ]\n",
    "train = train.query('not (building_id <= 104 & meter == 0 & timestamp <= \"2016-05-20\")')"
   ]
  },
  {
   "cell_type": "code",
   "execution_count": 175,
   "metadata": {},
   "outputs": [
    {
     "data": {
      "text/plain": [
       "['row_id',\n",
       " 'building_id',\n",
       " 'meter',\n",
       " 'site_id',\n",
       " 'primary_use',\n",
       " 'square_feet',\n",
       " 'year_built',\n",
       " 'floor_count',\n",
       " 'utc',\n",
       " 'new_floor_count',\n",
       " 'new_year_built',\n",
       " 'square_feet_log',\n",
       " 'is_holiday',\n",
       " 'weekday_cos',\n",
       " 'weekday_sin',\n",
       " 'weekday',\n",
       " 'hour_cos',\n",
       " 'hour_sin',\n",
       " 'year_cos',\n",
       " 'year_sin',\n",
       " 'night_time',\n",
       " 'morning',\n",
       " 'afternoon',\n",
       " 'evening',\n",
       " 'is_day_saving',\n",
       " 'utc_time',\n",
       " 'timestamp',\n",
       " 'meter_reading',\n",
       " 'meter_reading_log',\n",
       " 'sea_level_pressure',\n",
       " 'dew_temperature',\n",
       " 'wind_speed',\n",
       " 'cloud_coverage',\n",
       " 'precip_depth_1_hr',\n",
       " 'air_temperature',\n",
       " 'uvIndex',\n",
       " 'cloudCover',\n",
       " 'humidity',\n",
       " 'latitude',\n",
       " 'longitude',\n",
       " 'irradiance_cloud',\n",
       " 'new_feels_like',\n",
       " 'radiation',\n",
       " 'air_temperature_mean_lag72',\n",
       " 'air_temperature_max_lag72',\n",
       " 'air_temperature_min_lag72',\n",
       " 'air_temperature_std_lag72',\n",
       " 'cloudCover_mean_lag72',\n",
       " 'cloudCover_max_lag72',\n",
       " 'cloudCover_min_lag72',\n",
       " 'cloudCover_std_lag72',\n",
       " 'beaufort_scale',\n",
       " 'wind_direction_cos',\n",
       " 'wind_direction_sin',\n",
       " 'new_wind_direction_cos',\n",
       " 'new_wind_direction_sin',\n",
       " 'age',\n",
       " 'start_ts',\n",
       " 'hours_passed']"
      ]
     },
     "execution_count": 175,
     "metadata": {},
     "output_type": "execute_result"
    }
   ],
   "source": [
    "list(test.columns.values)"
   ]
  },
  {
   "cell_type": "markdown",
   "metadata": {},
   "source": [
    "# Train model"
   ]
  },
  {
   "cell_type": "code",
   "execution_count": null,
   "metadata": {},
   "outputs": [],
   "source": [
    "# group = train['site_id'].astype(str) + \"_\" + (train['timestamp'].dt.month).astype(str)\n",
    "# groupSplit = GroupShuffleSplit(n_split, test_size=0.2, random_state=7)\n",
    "# folds = groupSplit.split(train[['radiation']],\n",
    "#                          train['meter_reading'],\n",
    "#                          groups=[train['site_id'],train['timestamp'].dt.month])"
   ]
  },
  {
   "cell_type": "markdown",
   "metadata": {},
   "source": [
    "# LightGBM"
   ]
  },
  {
   "cell_type": "code",
   "execution_count": 135,
   "metadata": {},
   "outputs": [
    {
     "data": {
      "text/plain": [
       "234"
      ]
     },
     "execution_count": 135,
     "metadata": {},
     "output_type": "execute_result"
    }
   ],
   "source": [
    "lgb_params = {\n",
    "              'objective':'regression',\n",
    "              'boosting_type':'gbdt',\n",
    "              'metric':'rmse',\n",
    "              'n_jobs':-1,\n",
    "              'learning_rate':0.05,\n",
    "              'num_leaves': 2**8,\n",
    "              'max_depth':-1,\n",
    "              'tree_learner':'serial',\n",
    "              'colsample_bytree': 0.9,\n",
    "              'subsample_freq':1,\n",
    "              'subsample':0.5,\n",
    "              'n_estimators':2000,\n",
    "              'max_bin':255,\n",
    "              'verbose':2,\n",
    "              'seed': seed,\n",
    "              'early_stopping_rounds':100 \n",
    "            } \n",
    "\n",
    "mean_performance_test = 0 \n",
    "mean_performance_train = 0\n",
    "mean_performance_leaked = 0\n",
    "gc.collect()"
   ]
  },
  {
   "cell_type": "code",
   "execution_count": 182,
   "metadata": {
    "scrolled": true
   },
   "outputs": [
    {
     "name": "stdout",
     "output_type": "stream",
     "text": [
      "\n",
      "\n",
      "\n",
      " ===== Fold numer 4 =====\n"
     ]
    },
    {
     "name": "stderr",
     "output_type": "stream",
     "text": [
      "/opt/conda/lib/python3.7/site-packages/lightgbm/engine.py:148: UserWarning: Found `n_estimators` in params. Will use it instead of argument\n",
      "  warnings.warn(\"Found `{}` in params. Will use it instead of argument\".format(alias))\n",
      "/opt/conda/lib/python3.7/site-packages/lightgbm/engine.py:153: UserWarning: Found `early_stopping_rounds` in params. Will use it instead of argument\n",
      "  warnings.warn(\"Found `{}` in params. Will use it instead of argument\".format(alias))\n"
     ]
    },
    {
     "name": "stdout",
     "output_type": "stream",
     "text": [
      "Training until validation scores don't improve for 100 rounds\n",
      "[50]\ttraining's rmse: 0.714944\tvalid_1's rmse: 0.830001\n",
      "[100]\ttraining's rmse: 0.584542\tvalid_1's rmse: 0.74271\n",
      "[150]\ttraining's rmse: 0.527979\tvalid_1's rmse: 0.713955\n",
      "[200]\ttraining's rmse: 0.494909\tvalid_1's rmse: 0.698235\n",
      "[250]\ttraining's rmse: 0.472829\tvalid_1's rmse: 0.687853\n",
      "[300]\ttraining's rmse: 0.456496\tvalid_1's rmse: 0.681559\n",
      "[350]\ttraining's rmse: 0.443662\tvalid_1's rmse: 0.677393\n",
      "[400]\ttraining's rmse: 0.431843\tvalid_1's rmse: 0.674394\n",
      "[450]\ttraining's rmse: 0.421464\tvalid_1's rmse: 0.670953\n",
      "[500]\ttraining's rmse: 0.413548\tvalid_1's rmse: 0.668911\n",
      "[550]\ttraining's rmse: 0.404806\tvalid_1's rmse: 0.666587\n",
      "[600]\ttraining's rmse: 0.397778\tvalid_1's rmse: 0.663998\n",
      "[650]\ttraining's rmse: 0.391349\tvalid_1's rmse: 0.661971\n",
      "[700]\ttraining's rmse: 0.385374\tvalid_1's rmse: 0.660327\n",
      "[750]\ttraining's rmse: 0.380551\tvalid_1's rmse: 0.659701\n",
      "[800]\ttraining's rmse: 0.375633\tvalid_1's rmse: 0.658843\n",
      "[850]\ttraining's rmse: 0.370765\tvalid_1's rmse: 0.657909\n",
      "[900]\ttraining's rmse: 0.366502\tvalid_1's rmse: 0.657309\n",
      "[950]\ttraining's rmse: 0.362037\tvalid_1's rmse: 0.656612\n",
      "[1000]\ttraining's rmse: 0.358435\tvalid_1's rmse: 0.656049\n",
      "[1050]\ttraining's rmse: 0.354529\tvalid_1's rmse: 0.655238\n",
      "[1100]\ttraining's rmse: 0.351007\tvalid_1's rmse: 0.654685\n",
      "[1150]\ttraining's rmse: 0.347739\tvalid_1's rmse: 0.654035\n",
      "[1200]\ttraining's rmse: 0.344572\tvalid_1's rmse: 0.653404\n",
      "[1250]\ttraining's rmse: 0.34177\tvalid_1's rmse: 0.65304\n",
      "[1300]\ttraining's rmse: 0.338764\tvalid_1's rmse: 0.652295\n",
      "[1350]\ttraining's rmse: 0.335604\tvalid_1's rmse: 0.651865\n",
      "[1400]\ttraining's rmse: 0.332722\tvalid_1's rmse: 0.651446\n",
      "[1450]\ttraining's rmse: 0.330045\tvalid_1's rmse: 0.651061\n",
      "[1500]\ttraining's rmse: 0.327277\tvalid_1's rmse: 0.650717\n",
      "[1550]\ttraining's rmse: 0.325131\tvalid_1's rmse: 0.65039\n",
      "[1600]\ttraining's rmse: 0.32261\tvalid_1's rmse: 0.649874\n",
      "[1650]\ttraining's rmse: 0.320113\tvalid_1's rmse: 0.649455\n",
      "[1700]\ttraining's rmse: 0.318005\tvalid_1's rmse: 0.649138\n",
      "[1750]\ttraining's rmse: 0.315841\tvalid_1's rmse: 0.648799\n",
      "[1800]\ttraining's rmse: 0.313714\tvalid_1's rmse: 0.648436\n",
      "[1850]\ttraining's rmse: 0.311721\tvalid_1's rmse: 0.648139\n",
      "[1900]\ttraining's rmse: 0.309922\tvalid_1's rmse: 0.647953\n",
      "[1950]\ttraining's rmse: 0.308033\tvalid_1's rmse: 0.6476\n",
      "[2000]\ttraining's rmse: 0.306109\tvalid_1's rmse: 0.647336\n",
      "Did not meet early stopping. Best iteration is:\n",
      "[2000]\ttraining's rmse: 0.306109\tvalid_1's rmse: 0.647336\n",
      "Done with the test prediction\n",
      "0.18208307858654962 0.3845218549997818 0.9695603044582619\n"
     ]
    }
   ],
   "source": [
    "fold = 4  \n",
    "print(f\"\\n\\n\\n ===== Fold numer {fold} =====\")\n",
    "tr_data = lgb.Dataset(train.loc[train['split'].ne(fold)][features], \n",
    "                      label=train.loc[train['split'].ne(fold)][target])\n",
    "vl_data = lgb.Dataset(train.loc[train['split'].eq(fold)][features], \n",
    "                      label=train.loc[train['split'].eq(fold)][target])\n",
    "gc.collect()\n",
    "estimator = lgb.train(\n",
    "            lgb_params,\n",
    "            tr_data,\n",
    "            valid_sets = [tr_data,vl_data],\n",
    "            verbose_eval = 50)\n",
    "model_filename = 'models/' + model_name + '_' + cv_method + '_fold_' + str(fold)  + '.bin'\n",
    "pickle.dump(estimator, open(model_filename, 'wb'))\n",
    "\n",
    "performance_test = estimator.best_score['valid_1']['rmse']\n",
    "performance_train = estimator.best_score['training']['rmse']\n",
    "\n",
    "mean_performance_test += performance_test\n",
    "mean_performance_train += performance_train\n",
    "gc.collect()\n",
    "\n",
    "i = 0\n",
    "step = 100000\n",
    "test['pred'] = np.nan\n",
    "while i < test.shape[0]:\n",
    "    test.loc[i:(i+step-1),'pred'] = estimator.predict(test.iloc[i:(i+step)][features])\n",
    "    i = i + step\n",
    "    gc.collect()\n",
    "print(\"Done with the test prediction\")\n",
    "\n",
    "performance_leaked = np.sqrt(mean_squared_error(test['meter_reading_log'],test['pred']))\n",
    "mean_performance_leaked += performance_leaked\n",
    "\n",
    "with open(r'./models/perf_leaked.csv', 'a') as f:\n",
    "    writer = csv.writer(f)\n",
    "    writer.writerow([cv_method, fold, performance_train, performance_test, performance_leaked])\n",
    "\n",
    "    \n",
    "print((mean_performance_train),(mean_performance_test),(mean_performance_leaked))"
   ]
  },
  {
   "cell_type": "markdown",
   "metadata": {},
   "source": [
    "# Feature importance"
   ]
  },
  {
   "cell_type": "code",
   "execution_count": 181,
   "metadata": {},
   "outputs": [],
   "source": [
    "estimator = pickle.load(open('models/lgbm_stratified_month_usage_fold_4.bin', 'rb'))"
   ]
  },
  {
   "cell_type": "code",
   "execution_count": 179,
   "metadata": {},
   "outputs": [
    {
     "data": {
      "image/png": "[encoded data removed]",
      "text/plain": [
       "<Figure size 432x288 with 1 Axes>"
      ]
     },
     "metadata": {
      "needs_background": "light"
     },
     "output_type": "display_data"
    },
    {
     "data": {
      "text/plain": [
       "<Figure size 10800x11520 with 0 Axes>"
      ]
     },
     "execution_count": 179,
     "metadata": {},
     "output_type": "execute_result"
    },
    {
     "data": {
      "text/plain": [
       "<Figure size 10800x11520 with 0 Axes>"
      ]
     },
     "metadata": {},
     "output_type": "display_data"
    }
   ],
   "source": [
    "import matplotlib.pyplot as plt\n",
    "\n",
    "lgb.plot_importance(estimator, max_num_features=30)\n",
    "plt.title(\"Featurertances\")\n",
    "plt.show()\n",
    "plt.figure(figsize=(150,160))"
   ]
  },
  {
   "cell_type": "code",
   "execution_count": 183,
   "metadata": {},
   "outputs": [],
   "source": [
    "mean_performance_test = 0 \n",
    "mean_performance_train = 0\n",
    "mean_performance_leaked = 0"
   ]
  },
  {
   "cell_type": "code",
   "execution_count": 184,
   "metadata": {},
   "outputs": [
    {
     "name": "stdout",
     "output_type": "stream",
     "text": [
      "Done with the test prediction\n",
      "0.3061092241759836 0.6473360580111542 2.4207903193759486\n"
     ]
    }
   ],
   "source": [
    "performance_test = estimator.best_score['valid_1']['rmse']\n",
    "performance_train = estimator.best_score['training']['rmse']\n",
    "\n",
    "mean_performance_test += performance_test\n",
    "mean_performance_train += performance_train\n",
    "gc.collect()\n",
    "\n",
    "i = 0\n",
    "step = 100000\n",
    "test['pred'] = np.nan\n",
    "while i < test.shape[0]:\n",
    "    test.loc[i:(i+step-1),'pred'] = estimator.predict(test.iloc[i:(i+step)][features])\n",
    "    i = i + step\n",
    "    gc.collect()\n",
    "print(\"Done with the test prediction\")\n",
    "\n",
    "performance_leaked = np.sqrt(mean_squared_error(test['meter_reading_log'],test['pred']))\n",
    "mean_performance_leaked += performance_leaked\n",
    "\n",
    "with open(r'./models/perf_leaked.csv', 'a') as f:\n",
    "    writer = csv.writer(f)\n",
    "    writer.writerow([cv_method, fold, performance_train, performance_test, performance_leaked])\n",
    "\n",
    "    \n",
    "print((mean_performance_train),(mean_performance_test),(mean_performance_leaked))"
   ]
  },
  {
   "cell_type": "code",
   "execution_count": null,
   "metadata": {},
   "outputs": [],
   "source": []
  },
  {
   "cell_type": "code",
   "execution_count": null,
   "metadata": {},
   "outputs": [],
   "source": [
    "i = 0\n",
    "step = 100000\n",
    "test['pred'] = np.nan\n",
    "while i < test.shape[0]:\n",
    "    test.loc[i:(i+step-1),'pred'] = estimator.predict(test.iloc[i:(i+step)][features])\n",
    "    i = i + step\n",
    "    gc.collect()\n",
    "print(\"Done with the test prediction\")"
   ]
  },
  {
   "cell_type": "code",
   "execution_count": null,
   "metadata": {},
   "outputs": [],
   "source": [
    "test.dtypes"
   ]
  },
  {
   "cell_type": "code",
   "execution_count": null,
   "metadata": {},
   "outputs": [],
   "source": [
    "train.dtypes"
   ]
  },
  {
   "cell_type": "code",
   "execution_count": null,
   "metadata": {},
   "outputs": [],
   "source": [
    "test['meter_reading_log'].loc[0:100].plot()\n",
    "test['pred'].loc[0:100].plot()"
   ]
  },
  {
   "cell_type": "code",
   "execution_count": null,
   "metadata": {},
   "outputs": [],
   "source": [
    "start = 26600\n",
    "end = 26700\n",
    "test['meter_reading_log'].iloc[start:end].plot()\n",
    "test['pred'].iloc[start:end].plot()"
   ]
  },
  {
   "cell_type": "markdown",
   "metadata": {},
   "source": [
    "# Save results"
   ]
  },
  {
   "cell_type": "code",
   "execution_count": null,
   "metadata": {},
   "outputs": [],
   "source": [
    "mean_performance_leaked = mean_performance_leaked/n_split\n",
    "mean_performance_test = mean_performance_test/n_split\n",
    "mean_performance_train = mean_performance_train/n_split\n",
    "\n",
    "with open(r'./models/perf_leaked.csv', 'a') as f:\n",
    "    writer = csv.writer(f)\n",
    "    writer.writerow([cv_method, 'avg', mean_performance_train, mean_performance_test, mean_performance_leaked])"
   ]
  },
  {
   "cell_type": "markdown",
   "metadata": {},
   "source": [
    "# Backup Code"
   ]
  },
  {
   "cell_type": "code",
   "execution_count": null,
   "metadata": {},
   "outputs": [],
   "source": [
    "beaufort = [(0, 0, 0.3), (1, 0.3, 1.6), (2, 1.6, 3.4), (3, 3.4, 5.5), (4, 5.5, 8), (5, 8, 10.8), (6, 10.8, 13.9), \n",
    "          (7, 13.9, 17.2), (8, 17.2, 20.8), (9, 20.8, 24.5), (10, 24.5, 28.5), (11, 28.5, 33), (12, 33, 200)]\n",
    "\n",
    "for item in beaufort:\n",
    "    train.loc[(train['wind_speed']>=item[1]) & (train['wind_speed']<item[2]), 'beaufort_scale'] = item[0]\n",
    "    train.loc[(train['new_wind_speed']>=item[1]) & (train['new_wind_speed']<item[2]), 'beaufort_scale'] = item[0]"
   ]
  },
  {
   "cell_type": "code",
   "execution_count": null,
   "metadata": {},
   "outputs": [],
   "source": [
    "le = LabelEncoder()\n",
    "\n",
    "for f in ['meter','primary_use','is_day_saving','is_holiday']:\n",
    "    train[f] = train[f].astype('category')\n",
    "    train[f] = le.fit_transform(train[f])"
   ]
  }
 ],
 "metadata": {
  "kernelspec": {
   "display_name": "Python 3",
   "language": "python",
   "name": "python3"
  },
  "language_info": {
   "codemirror_mode": {
    "name": "ipython",
    "version": 3
   },
   "file_extension": ".py",
   "mimetype": "text/x-python",
   "name": "python",
   "nbconvert_exporter": "python",
   "pygments_lexer": "ipython3",
   "version": "3.7.3"
  }
 },
 "nbformat": 4,
 "nbformat_minor": 2
}
