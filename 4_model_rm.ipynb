{
 "cells": [
  {
   "cell_type": "code",
   "execution_count": 1,
   "metadata": {
    "ExecuteTime": {
     "end_time": "2019-12-08T08:24:25.954836Z",
     "start_time": "2019-12-08T08:24:22.805967Z"
    }
   },
   "outputs": [],
   "source": [
    "import gc\n",
    "import feather\n",
    "from pprint import pprint\n",
    "import time\n",
    "\n",
    "import matplotlib.pyplot as plt\n",
    "import numpy as np\n",
    "import lightgbm as lgb\n",
    "import pandas as pd"
   ]
  },
  {
   "cell_type": "markdown",
   "metadata": {},
   "source": [
    "### Fit model on train data"
   ]
  },
  {
   "cell_type": "code",
   "execution_count": 2,
   "metadata": {
    "ExecuteTime": {
     "end_time": "2019-12-08T08:25:36.544640Z",
     "start_time": "2019-12-08T08:24:25.965649Z"
    }
   },
   "outputs": [
    {
     "name": "stdout",
     "output_type": "stream",
     "text": [
      "(20216100, 68)\n",
      "['building_id',\n",
      " 'meter',\n",
      " 'meter_reading',\n",
      " 'row_id',\n",
      " 'site_id',\n",
      " 'primary_use',\n",
      " 'square_feet',\n",
      " 'year_built',\n",
      " 'floor_count',\n",
      " 'utc',\n",
      " 'new_floor_count',\n",
      " 'new_year_built',\n",
      " 'square_feet_log',\n",
      " 'is_holiday',\n",
      " 'weekday_cos',\n",
      " 'weekday_sin',\n",
      " 'weekday',\n",
      " 'hour_cos',\n",
      " 'hour_sin',\n",
      " 'year_cos',\n",
      " 'year_sin',\n",
      " 'night_time',\n",
      " 'morning',\n",
      " 'afternoon',\n",
      " 'evening',\n",
      " 'is_day_saving',\n",
      " 'utc_time',\n",
      " 'suspicious_1',\n",
      " 'suspicious_2',\n",
      " 'suspicious_3',\n",
      " 'age',\n",
      " 'air_temperature',\n",
      " 'cloud_coverage',\n",
      " 'dew_temperature',\n",
      " 'precip_depth_1_hr',\n",
      " 'sea_level_pressure',\n",
      " 'wind_speed',\n",
      " 'new_sea_level_pressure',\n",
      " 'new_dew_temperature',\n",
      " 'new_wind_speed',\n",
      " 'new_cloud_coverage',\n",
      " 'new_precip_depth_1_hr',\n",
      " 'new_air_temperature',\n",
      " 'uvIndex',\n",
      " 'cloudCover',\n",
      " 'humidity',\n",
      " 'latitude',\n",
      " 'longitude',\n",
      " 'irradiance',\n",
      " 'irradiance_cloud',\n",
      " 'feels_like',\n",
      " 'new_feels_like',\n",
      " 'altitude',\n",
      " 'azimuth',\n",
      " 'radiation',\n",
      " 'air_temperature_mean_lag72',\n",
      " 'air_temperature_max_lag72',\n",
      " 'air_temperature_min_lag72',\n",
      " 'air_temperature_std_lag72',\n",
      " 'cloudCover_mean_lag72',\n",
      " 'cloudCover_max_lag72',\n",
      " 'cloudCover_min_lag72',\n",
      " 'cloudCover_std_lag72',\n",
      " 'beaufort_scale',\n",
      " 'wind_direction_cos',\n",
      " 'wind_direction_sin',\n",
      " 'new_wind_direction_cos',\n",
      " 'new_wind_direction_sin']\n"
     ]
    }
   ],
   "source": [
    "path = '../data-vol-2'\n",
    "df_train = feather.read_dataframe(f'{path}/Prepared_data/train_filled_na.feather')\n",
    "print(df_train.shape)\n",
    "pprint(df_train.columns.to_list())"
   ]
  },
  {
   "cell_type": "code",
   "execution_count": 6,
   "metadata": {
    "ExecuteTime": {
     "end_time": "2019-12-08T08:27:23.694781Z",
     "start_time": "2019-12-08T08:26:10.848895Z"
    }
   },
   "outputs": [
    {
     "name": "stdout",
     "output_type": "stream",
     "text": [
      "(20216100, 68)\n",
      "(18562599, 68)\n",
      "(18562599, 64)\n"
     ]
    }
   ],
   "source": [
    "# Filter rows of interest\n",
    "print(df_train.shape)\n",
    "df_train.drop(df_train[(\n",
    "    df_train['suspicious_1']==1) | (df_train['suspicious_2']==1) | (df_train['suspicious_3']==1) ].index, \n",
    "              inplace=True)\n",
    "print(df_train.shape)\n",
    "\n",
    "# Filter columns of interest\n",
    "df_train.drop(['row_id',\n",
    "               'suspicious_1', \n",
    "               'suspicious_2', \n",
    "               'suspicious_3'], axis=1, inplace=True)\n",
    "print(df_train.shape)"
   ]
  },
  {
   "cell_type": "code",
   "execution_count": 5,
   "metadata": {
    "ExecuteTime": {
     "end_time": "2019-12-08T08:26:07.374638Z",
     "start_time": "2019-12-08T08:26:07.366883Z"
    }
   },
   "outputs": [],
   "source": [
    "features_labels = [\n",
    "    'building_id',\n",
    "    'year_cos',\n",
    "    'year_sin',\n",
    "    'square_feet',\n",
    "    'meter',\n",
    "    'air_temperature_mean_lag72',\n",
    "    'air_temperature_min_lag72',\n",
    "    'new_floor_count',\n",
    "    'air_temperature_max_lag72',\n",
    "    'cloudCover_mean_lag72',\n",
    "    'weekday_cos'\n",
    "]\n",
    "\n",
    "categorical_features = [\n",
    "    \"building_id\", \n",
    "#     \"site_id\", \n",
    "    \"meter\", \n",
    "#     \"primary_use\", \n",
    "#     \"weekday\", \n",
    "#     \"morning\", \n",
    "#     \"afternoon\", \n",
    "#     \"evening\",\n",
    "#     \"is_day_saving\"\n",
    "]"
   ]
  },
  {
   "cell_type": "code",
   "execution_count": 7,
   "metadata": {
    "ExecuteTime": {
     "end_time": "2019-12-08T08:27:35.335236Z",
     "start_time": "2019-12-08T08:27:30.292855Z"
    }
   },
   "outputs": [
    {
     "name": "stdout",
     "output_type": "stream",
     "text": [
      "(18562599, 11) (18562599,)\n"
     ]
    },
    {
     "data": {
      "text/plain": [
       "85"
      ]
     },
     "execution_count": 7,
     "metadata": {},
     "output_type": "execute_result"
    }
   ],
   "source": [
    "# Retrieve target and features\n",
    "target = np.log1p(df_train[\"meter_reading\"])\n",
    "features = df_train[features_labels].copy()\n",
    "print(features.shape, target.shape)\n",
    "del df_train\n",
    "gc.collect()"
   ]
  },
  {
   "cell_type": "code",
   "execution_count": 9,
   "metadata": {
    "ExecuteTime": {
     "end_time": "2019-12-08T08:27:40.226442Z",
     "start_time": "2019-12-08T08:27:40.220559Z"
    }
   },
   "outputs": [],
   "source": [
    "d_training = lgb.Dataset(features, \n",
    "                         label=target,\n",
    "                         categorical_feature=categorical_features, \n",
    "                         free_raw_data=False)"
   ]
  },
  {
   "cell_type": "code",
   "execution_count": 10,
   "metadata": {
    "ExecuteTime": {
     "end_time": "2019-12-08T08:28:28.547784Z",
     "start_time": "2019-12-08T08:28:28.543147Z"
    }
   },
   "outputs": [],
   "source": [
    "name = 'test_v18'\n",
    "params = {\n",
    "    \"objective\": \"regression\",\n",
    "    \"boosting\": \"gbdt\",\n",
    "    \"num_leaves\": 1280,\n",
    "    \"learning_rate\": 0.05,\n",
    "    \"feature_fraction\": 0.85,\n",
    "    \"reg_lambda\": 2,\n",
    "    \"metric\": \"rmse\",\n",
    "    \"max_depth\": -1,\n",
    "    \"tree_learner\": \"serial\",\n",
    "#     \"colsample_bytree\": ?,\n",
    "#     \"subsample\": ?,\n",
    "    \"max_bin\": 255,\n",
    "#     \"boosting_type\": ?,    \n",
    "}\n",
    "\n",
    "# params = {\n",
    "#      'objective': 'regression',\n",
    "#      'metric': 'rmse',\n",
    "#      'n_jobs': -1,\n",
    "#      'learning_rate': 0.01,\n",
    "#      'num_leaves': 256,\n",
    "#      'max_depth': -1,\n",
    "#      'tree_learner': 'serial',\n",
    "#      'colsample_bytree': 0.9,\n",
    "#      'subsample': 0.5,\n",
    "#      'max_bin': 50,\n",
    "#      'verbose': 2,\n",
    "#      'boosting_type': 'goss',\n",
    "#      'subsample_freq': 0,\n",
    "#      'seed': 7,\n",
    "#      'top_rate': 0.5,\n",
    "#      'other_rate': 0.4\n",
    "# }\n"
   ]
  },
  {
   "cell_type": "code",
   "execution_count": 22,
   "metadata": {
    "ExecuteTime": {
     "end_time": "2019-12-08T13:27:10.070930Z",
     "start_time": "2019-12-08T13:27:10.060378Z"
    }
   },
   "outputs": [
    {
     "data": {
      "text/plain": [
       "{'objective': 'regression',\n",
       " 'boosting': 'gbdt',\n",
       " 'num_leaves': 1280,\n",
       " 'learning_rate': 0.05,\n",
       " 'feature_fraction': 0.85,\n",
       " 'reg_lambda': 2,\n",
       " 'metric': 'rmse'}"
      ]
     },
     "execution_count": 22,
     "metadata": {},
     "output_type": "execute_result"
    }
   ],
   "source": [
    "group = train['site_id'].astype(str) + \"_\" + (train['utc_time'].dt.month).astype(str)\n",
    "\n",
    "groupSplit = GroupShuffleSplit(5, test_size=0.2, random_state=7)\n",
    "folds = groupSplit.split(train[['radiation']],\n",
    "                         train['meter_reading'],\n",
    "                         groups=group)"
   ]
  },
  {
   "cell_type": "code",
   "execution_count": 11,
   "metadata": {
    "ExecuteTime": {
     "end_time": "2019-12-08T08:34:42.824282Z",
     "start_time": "2019-12-08T08:28:33.141966Z"
    }
   },
   "outputs": [
    {
     "name": "stderr",
     "output_type": "stream",
     "text": [
      "/Users/pmrc471m/Documents/energy/env_37_energy/lib/python3.7/site-packages/lightgbm/basic.py:1291: UserWarning: Using categorical_feature in Dataset.\n",
      "  warnings.warn('Using categorical_feature in Dataset.')\n"
     ]
    },
    {
     "name": "stdout",
     "output_type": "stream",
     "text": [
      "Training until validation scores don't improve for 50 rounds\n",
      "[25]\ttraining's rmse: 1.01774\n",
      "[50]\ttraining's rmse: 0.795123\n",
      "[75]\ttraining's rmse: 0.721406\n",
      "[100]\ttraining's rmse: 0.676938\n",
      "[125]\ttraining's rmse: 0.641071\n",
      "[150]\ttraining's rmse: 0.617324\n",
      "[175]\ttraining's rmse: 0.599862\n",
      "[200]\ttraining's rmse: 0.587546\n",
      "[225]\ttraining's rmse: 0.578398\n",
      "[250]\ttraining's rmse: 0.569967\n",
      "[275]\ttraining's rmse: 0.562495\n",
      "[300]\ttraining's rmse: 0.556287\n",
      "[325]\ttraining's rmse: 0.550749\n",
      "[350]\ttraining's rmse: 0.545814\n",
      "[375]\ttraining's rmse: 0.541194\n",
      "[400]\ttraining's rmse: 0.536974\n",
      "Did not meet early stopping. Best iteration is:\n",
      "[400]\ttraining's rmse: 0.536974\n"
     ]
    }
   ],
   "source": [
    "model = lgb.train(\n",
    "    params, train_set=d_training, valid_sets=[d_training],\n",
    "    num_boost_round=400, \n",
    "    verbose_eval=25, early_stopping_rounds=50)"
   ]
  },
  {
   "cell_type": "code",
   "execution_count": 12,
   "metadata": {
    "ExecuteTime": {
     "end_time": "2019-12-08T08:34:45.139086Z",
     "start_time": "2019-12-08T08:34:44.614783Z"
    }
   },
   "outputs": [
    {
     "data": {
      "image/png": "[encoded data removed]",
      "text/plain": [
       "<Figure size 720x1224 with 1 Axes>"
      ]
     },
     "metadata": {
      "needs_background": "light"
     },
     "output_type": "display_data"
    }
   ],
   "source": [
    "cols = lgb.plot_importance(model, figsize=(10, 17))"
   ]
  },
  {
   "cell_type": "code",
   "execution_count": 13,
   "metadata": {
    "ExecuteTime": {
     "end_time": "2019-12-08T08:34:48.310884Z",
     "start_time": "2019-12-08T08:34:48.251064Z"
    }
   },
   "outputs": [
    {
     "data": {
      "text/plain": [
       "0"
      ]
     },
     "execution_count": 13,
     "metadata": {},
     "output_type": "execute_result"
    }
   ],
   "source": [
    "del features, target\n",
    "gc.collect()"
   ]
  },
  {
   "cell_type": "markdown",
   "metadata": {},
   "source": [
    "### Predict on test data"
   ]
  },
  {
   "cell_type": "code",
   "execution_count": 14,
   "metadata": {
    "ExecuteTime": {
     "end_time": "2019-12-08T08:41:52.505343Z",
     "start_time": "2019-12-08T08:34:51.684564Z"
    }
   },
   "outputs": [
    {
     "name": "stdout",
     "output_type": "stream",
     "text": [
      "(41697600, 63)\n"
     ]
    },
    {
     "data": {
      "text/html": [
       "<div>\n",
       "<style scoped>\n",
       "    .dataframe tbody tr th:only-of-type {\n",
       "        vertical-align: middle;\n",
       "    }\n",
       "\n",
       "    .dataframe tbody tr th {\n",
       "        vertical-align: top;\n",
       "    }\n",
       "\n",
       "    .dataframe thead th {\n",
       "        text-align: right;\n",
       "    }\n",
       "</style>\n",
       "<table border=\"1\" class=\"dataframe\">\n",
       "  <thead>\n",
       "    <tr style=\"text-align: right;\">\n",
       "      <th></th>\n",
       "      <th>building_id</th>\n",
       "      <th>meter</th>\n",
       "      <th>site_id</th>\n",
       "      <th>primary_use</th>\n",
       "      <th>square_feet</th>\n",
       "      <th>year_built</th>\n",
       "      <th>floor_count</th>\n",
       "      <th>utc</th>\n",
       "      <th>new_floor_count</th>\n",
       "      <th>new_year_built</th>\n",
       "      <th>...</th>\n",
       "      <th>air_temperature_std_lag72</th>\n",
       "      <th>cloudCover_mean_lag72</th>\n",
       "      <th>cloudCover_max_lag72</th>\n",
       "      <th>cloudCover_min_lag72</th>\n",
       "      <th>cloudCover_std_lag72</th>\n",
       "      <th>beaufort_scale</th>\n",
       "      <th>wind_direction_cos</th>\n",
       "      <th>wind_direction_sin</th>\n",
       "      <th>new_wind_direction_cos</th>\n",
       "      <th>new_wind_direction_sin</th>\n",
       "    </tr>\n",
       "    <tr>\n",
       "      <th>row_id</th>\n",
       "      <th></th>\n",
       "      <th></th>\n",
       "      <th></th>\n",
       "      <th></th>\n",
       "      <th></th>\n",
       "      <th></th>\n",
       "      <th></th>\n",
       "      <th></th>\n",
       "      <th></th>\n",
       "      <th></th>\n",
       "      <th></th>\n",
       "      <th></th>\n",
       "      <th></th>\n",
       "      <th></th>\n",
       "      <th></th>\n",
       "      <th></th>\n",
       "      <th></th>\n",
       "      <th></th>\n",
       "      <th></th>\n",
       "      <th></th>\n",
       "      <th></th>\n",
       "    </tr>\n",
       "  </thead>\n",
       "  <tbody>\n",
       "    <tr>\n",
       "      <th>0</th>\n",
       "      <td>0</td>\n",
       "      <td>0</td>\n",
       "      <td>0</td>\n",
       "      <td>Education</td>\n",
       "      <td>7432</td>\n",
       "      <td>2008.0</td>\n",
       "      <td>NaN</td>\n",
       "      <td>-4.0</td>\n",
       "      <td>2.398141</td>\n",
       "      <td>2008.0</td>\n",
       "      <td>...</td>\n",
       "      <td>6.226562</td>\n",
       "      <td>0.160645</td>\n",
       "      <td>1.0</td>\n",
       "      <td>0.0</td>\n",
       "      <td>0.297607</td>\n",
       "      <td>2.0</td>\n",
       "      <td>-0.642788</td>\n",
       "      <td>0.766044</td>\n",
       "      <td>-0.642788</td>\n",
       "      <td>0.766044</td>\n",
       "    </tr>\n",
       "    <tr>\n",
       "      <th>1</th>\n",
       "      <td>1</td>\n",
       "      <td>0</td>\n",
       "      <td>0</td>\n",
       "      <td>Education</td>\n",
       "      <td>2720</td>\n",
       "      <td>2004.0</td>\n",
       "      <td>NaN</td>\n",
       "      <td>-4.0</td>\n",
       "      <td>2.248431</td>\n",
       "      <td>2004.0</td>\n",
       "      <td>...</td>\n",
       "      <td>6.226562</td>\n",
       "      <td>0.160645</td>\n",
       "      <td>1.0</td>\n",
       "      <td>0.0</td>\n",
       "      <td>0.297607</td>\n",
       "      <td>2.0</td>\n",
       "      <td>-0.642788</td>\n",
       "      <td>0.766044</td>\n",
       "      <td>-0.642788</td>\n",
       "      <td>0.766044</td>\n",
       "    </tr>\n",
       "    <tr>\n",
       "      <th>2</th>\n",
       "      <td>2</td>\n",
       "      <td>0</td>\n",
       "      <td>0</td>\n",
       "      <td>Education</td>\n",
       "      <td>5376</td>\n",
       "      <td>1991.0</td>\n",
       "      <td>NaN</td>\n",
       "      <td>-4.0</td>\n",
       "      <td>2.332818</td>\n",
       "      <td>1991.0</td>\n",
       "      <td>...</td>\n",
       "      <td>6.226562</td>\n",
       "      <td>0.160645</td>\n",
       "      <td>1.0</td>\n",
       "      <td>0.0</td>\n",
       "      <td>0.297607</td>\n",
       "      <td>2.0</td>\n",
       "      <td>-0.642788</td>\n",
       "      <td>0.766044</td>\n",
       "      <td>-0.642788</td>\n",
       "      <td>0.766044</td>\n",
       "    </tr>\n",
       "    <tr>\n",
       "      <th>3</th>\n",
       "      <td>3</td>\n",
       "      <td>0</td>\n",
       "      <td>0</td>\n",
       "      <td>Education</td>\n",
       "      <td>23685</td>\n",
       "      <td>2002.0</td>\n",
       "      <td>NaN</td>\n",
       "      <td>-4.0</td>\n",
       "      <td>2.914535</td>\n",
       "      <td>2002.0</td>\n",
       "      <td>...</td>\n",
       "      <td>6.226562</td>\n",
       "      <td>0.160645</td>\n",
       "      <td>1.0</td>\n",
       "      <td>0.0</td>\n",
       "      <td>0.297607</td>\n",
       "      <td>2.0</td>\n",
       "      <td>-0.642788</td>\n",
       "      <td>0.766044</td>\n",
       "      <td>-0.642788</td>\n",
       "      <td>0.766044</td>\n",
       "    </tr>\n",
       "    <tr>\n",
       "      <th>4</th>\n",
       "      <td>4</td>\n",
       "      <td>0</td>\n",
       "      <td>0</td>\n",
       "      <td>Education</td>\n",
       "      <td>116607</td>\n",
       "      <td>1975.0</td>\n",
       "      <td>NaN</td>\n",
       "      <td>-4.0</td>\n",
       "      <td>5.866873</td>\n",
       "      <td>1975.0</td>\n",
       "      <td>...</td>\n",
       "      <td>6.226562</td>\n",
       "      <td>0.160645</td>\n",
       "      <td>1.0</td>\n",
       "      <td>0.0</td>\n",
       "      <td>0.297607</td>\n",
       "      <td>2.0</td>\n",
       "      <td>-0.642788</td>\n",
       "      <td>0.766044</td>\n",
       "      <td>-0.642788</td>\n",
       "      <td>0.766044</td>\n",
       "    </tr>\n",
       "  </tbody>\n",
       "</table>\n",
       "<p>5 rows × 63 columns</p>\n",
       "</div>"
      ],
      "text/plain": [
       "        building_id meter  site_id primary_use  square_feet  year_built  \\\n",
       "row_id                                                                    \n",
       "0                 0     0        0   Education         7432      2008.0   \n",
       "1                 1     0        0   Education         2720      2004.0   \n",
       "2                 2     0        0   Education         5376      1991.0   \n",
       "3                 3     0        0   Education        23685      2002.0   \n",
       "4                 4     0        0   Education       116607      1975.0   \n",
       "\n",
       "        floor_count  utc  new_floor_count  new_year_built  ...  \\\n",
       "row_id                                                     ...   \n",
       "0               NaN -4.0         2.398141          2008.0  ...   \n",
       "1               NaN -4.0         2.248431          2004.0  ...   \n",
       "2               NaN -4.0         2.332818          1991.0  ...   \n",
       "3               NaN -4.0         2.914535          2002.0  ...   \n",
       "4               NaN -4.0         5.866873          1975.0  ...   \n",
       "\n",
       "        air_temperature_std_lag72 cloudCover_mean_lag72  cloudCover_max_lag72  \\\n",
       "row_id                                                                          \n",
       "0                        6.226562              0.160645                   1.0   \n",
       "1                        6.226562              0.160645                   1.0   \n",
       "2                        6.226562              0.160645                   1.0   \n",
       "3                        6.226562              0.160645                   1.0   \n",
       "4                        6.226562              0.160645                   1.0   \n",
       "\n",
       "        cloudCover_min_lag72 cloudCover_std_lag72  beaufort_scale  \\\n",
       "row_id                                                              \n",
       "0                        0.0             0.297607             2.0   \n",
       "1                        0.0             0.297607             2.0   \n",
       "2                        0.0             0.297607             2.0   \n",
       "3                        0.0             0.297607             2.0   \n",
       "4                        0.0             0.297607             2.0   \n",
       "\n",
       "        wind_direction_cos  wind_direction_sin  new_wind_direction_cos  \\\n",
       "row_id                                                                   \n",
       "0                -0.642788            0.766044               -0.642788   \n",
       "1                -0.642788            0.766044               -0.642788   \n",
       "2                -0.642788            0.766044               -0.642788   \n",
       "3                -0.642788            0.766044               -0.642788   \n",
       "4                -0.642788            0.766044               -0.642788   \n",
       "\n",
       "       new_wind_direction_sin  \n",
       "row_id                         \n",
       "0                    0.766044  \n",
       "1                    0.766044  \n",
       "2                    0.766044  \n",
       "3                    0.766044  \n",
       "4                    0.766044  \n",
       "\n",
       "[5 rows x 63 columns]"
      ]
     },
     "execution_count": 14,
     "metadata": {},
     "output_type": "execute_result"
    }
   ],
   "source": [
    "path = '../data-vol-2'\n",
    "df_test = feather.read_dataframe(f'{path}/Prepared_data/test_filled_na.feather')\n",
    "df_test = df_test.set_index('row_id')\n",
    "df_test = df_test.sort_index()\n",
    "print(df_test.shape)\n",
    "df_test.head()"
   ]
  },
  {
   "cell_type": "markdown",
   "metadata": {
    "ExecuteTime": {
     "end_time": "2019-12-08T09:18:55.010125Z",
     "start_time": "2019-12-08T08:41:52.516704Z"
    },
    "scrolled": false
   },
   "source": [
    "# step = 250000\n",
    "start = int(time.time())\n",
    "i = 0\n",
    "df_test['pred'] = np.nan\n",
    "predictions = []\n",
    "\n",
    "while i < df_test.shape[0]:\n",
    "    print(f\"Start : [{i}: {i + step - 1}]\")    \n",
    "    df_subset = df_test.loc[i: (i + step - 1)].copy()\n",
    "    predictions_ = model.predict(df_subset[model.feature_name()])\n",
    "    predictions.append(predictions_)     \n",
    "    i = i + step\n",
    "    print(f\"Total duration at {round(i/df_test.shape[0]*100, 2)} % progress : {round(time.time() - start, 2)}s\\n\")\n",
    "\n",
    "start__ = time.time()\n",
    "predictions__ = np.concatenate(predictions)\n",
    "df_test.loc[0: (i - 1), 'pred'] = predictions__\n",
    "print(f\"Loc write duration : {round(time.time() - start__, 2)}s\")\n",
    "print(f\"Total duration at {round(i/df_test.shape[0]*100, 2)} % progress : {round(time.time() - start, 2)}s\\n\")"
   ]
  },
  {
   "cell_type": "code",
   "execution_count": 16,
   "metadata": {
    "ExecuteTime": {
     "end_time": "2019-12-08T09:18:58.851449Z",
     "start_time": "2019-12-08T09:18:55.025868Z"
    }
   },
   "outputs": [
    {
     "name": "stdout",
     "output_type": "stream",
     "text": [
      "(41697600, 1)\n"
     ]
    },
    {
     "data": {
      "text/html": [
       "<div>\n",
       "<style scoped>\n",
       "    .dataframe tbody tr th:only-of-type {\n",
       "        vertical-align: middle;\n",
       "    }\n",
       "\n",
       "    .dataframe tbody tr th {\n",
       "        vertical-align: top;\n",
       "    }\n",
       "\n",
       "    .dataframe thead th {\n",
       "        text-align: right;\n",
       "    }\n",
       "</style>\n",
       "<table border=\"1\" class=\"dataframe\">\n",
       "  <thead>\n",
       "    <tr style=\"text-align: right;\">\n",
       "      <th></th>\n",
       "      <th>meter_reading</th>\n",
       "    </tr>\n",
       "    <tr>\n",
       "      <th>row_id</th>\n",
       "      <th></th>\n",
       "    </tr>\n",
       "  </thead>\n",
       "  <tbody>\n",
       "    <tr>\n",
       "      <th>0</th>\n",
       "      <td>189.055577</td>\n",
       "    </tr>\n",
       "    <tr>\n",
       "      <th>1</th>\n",
       "      <td>51.637626</td>\n",
       "    </tr>\n",
       "    <tr>\n",
       "      <th>2</th>\n",
       "      <td>3.818167</td>\n",
       "    </tr>\n",
       "    <tr>\n",
       "      <th>3</th>\n",
       "      <td>127.415894</td>\n",
       "    </tr>\n",
       "    <tr>\n",
       "      <th>4</th>\n",
       "      <td>1151.366210</td>\n",
       "    </tr>\n",
       "  </tbody>\n",
       "</table>\n",
       "</div>"
      ],
      "text/plain": [
       "        meter_reading\n",
       "row_id               \n",
       "0          189.055577\n",
       "1           51.637626\n",
       "2            3.818167\n",
       "3          127.415894\n",
       "4         1151.366210"
      ]
     },
     "execution_count": 16,
     "metadata": {},
     "output_type": "execute_result"
    }
   ],
   "source": [
    "# Process the results\n",
    "df_results = pd.DataFrame(index=df_test.index)\n",
    "df_results['meter_reading'] = np.exp(df_test['pred']) - 1\n",
    "df_results['meter_reading'] = np.where(df_results['meter_reading'].lt(0), 0, df_results['meter_reading'])\n",
    "print(df_results.shape)\n",
    "del df_test\n",
    "gc.collect()\n",
    "df_results.head()"
   ]
  },
  {
   "cell_type": "markdown",
   "metadata": {},
   "source": [
    "### Replace test predictions with some leaked data"
   ]
  },
  {
   "cell_type": "code",
   "execution_count": 17,
   "metadata": {
    "ExecuteTime": {
     "end_time": "2019-12-08T09:19:08.297010Z",
     "start_time": "2019-12-08T09:18:58.855661Z"
    },
    "scrolled": true
   },
   "outputs": [
    {
     "name": "stdout",
     "output_type": "stream",
     "text": [
      "(11937501, 3)\n",
      "(8152670, 2)\n"
     ]
    },
    {
     "data": {
      "text/html": [
       "<div>\n",
       "<style scoped>\n",
       "    .dataframe tbody tr th:only-of-type {\n",
       "        vertical-align: middle;\n",
       "    }\n",
       "\n",
       "    .dataframe tbody tr th {\n",
       "        vertical-align: top;\n",
       "    }\n",
       "\n",
       "    .dataframe thead th {\n",
       "        text-align: right;\n",
       "    }\n",
       "</style>\n",
       "<table border=\"1\" class=\"dataframe\">\n",
       "  <thead>\n",
       "    <tr style=\"text-align: right;\">\n",
       "      <th></th>\n",
       "      <th>site_id</th>\n",
       "      <th>meter_reading</th>\n",
       "    </tr>\n",
       "    <tr>\n",
       "      <th>row_id</th>\n",
       "      <th></th>\n",
       "      <th></th>\n",
       "    </tr>\n",
       "  </thead>\n",
       "  <tbody>\n",
       "    <tr>\n",
       "      <th>0</th>\n",
       "      <td>0</td>\n",
       "      <td>173.370293</td>\n",
       "    </tr>\n",
       "    <tr>\n",
       "      <th>1</th>\n",
       "      <td>0</td>\n",
       "      <td>53.512720</td>\n",
       "    </tr>\n",
       "    <tr>\n",
       "      <th>2</th>\n",
       "      <td>0</td>\n",
       "      <td>6.143042</td>\n",
       "    </tr>\n",
       "    <tr>\n",
       "      <th>3</th>\n",
       "      <td>0</td>\n",
       "      <td>101.701470</td>\n",
       "    </tr>\n",
       "    <tr>\n",
       "      <th>4</th>\n",
       "      <td>0</td>\n",
       "      <td>1141.240666</td>\n",
       "    </tr>\n",
       "  </tbody>\n",
       "</table>\n",
       "</div>"
      ],
      "text/plain": [
       "        site_id  meter_reading\n",
       "row_id                        \n",
       "0             0     173.370293\n",
       "1             0      53.512720\n",
       "2             0       6.143042\n",
       "3             0     101.701470\n",
       "4             0    1141.240666"
      ]
     },
     "execution_count": 17,
     "metadata": {},
     "output_type": "execute_result"
    }
   ],
   "source": [
    "df_leaked = feather.read_dataframe('../data-vol-2/Leaked/leaked_submission.feather')\n",
    "print(df_leaked.shape)\n",
    "df_leaked.set_index('row_id', inplace=True)\n",
    "df_leaked = df_leaked.dropna()\n",
    "print(df_leaked.shape)\n",
    "df_leaked.head()"
   ]
  },
  {
   "cell_type": "code",
   "execution_count": 18,
   "metadata": {
    "ExecuteTime": {
     "end_time": "2019-12-08T09:19:13.995028Z",
     "start_time": "2019-12-08T09:19:08.301146Z"
    }
   },
   "outputs": [
    {
     "name": "stdout",
     "output_type": "stream",
     "text": [
      "(41697600, 1)\n"
     ]
    },
    {
     "data": {
      "text/html": [
       "<div>\n",
       "<style scoped>\n",
       "    .dataframe tbody tr th:only-of-type {\n",
       "        vertical-align: middle;\n",
       "    }\n",
       "\n",
       "    .dataframe tbody tr th {\n",
       "        vertical-align: top;\n",
       "    }\n",
       "\n",
       "    .dataframe thead th {\n",
       "        text-align: right;\n",
       "    }\n",
       "</style>\n",
       "<table border=\"1\" class=\"dataframe\">\n",
       "  <thead>\n",
       "    <tr style=\"text-align: right;\">\n",
       "      <th></th>\n",
       "      <th>meter_reading</th>\n",
       "    </tr>\n",
       "    <tr>\n",
       "      <th>row_id</th>\n",
       "      <th></th>\n",
       "    </tr>\n",
       "  </thead>\n",
       "  <tbody>\n",
       "    <tr>\n",
       "      <th>0</th>\n",
       "      <td>173.3703</td>\n",
       "    </tr>\n",
       "    <tr>\n",
       "      <th>1</th>\n",
       "      <td>53.5127</td>\n",
       "    </tr>\n",
       "    <tr>\n",
       "      <th>2</th>\n",
       "      <td>6.1430</td>\n",
       "    </tr>\n",
       "    <tr>\n",
       "      <th>3</th>\n",
       "      <td>101.7015</td>\n",
       "    </tr>\n",
       "    <tr>\n",
       "      <th>4</th>\n",
       "      <td>1141.2407</td>\n",
       "    </tr>\n",
       "  </tbody>\n",
       "</table>\n",
       "</div>"
      ],
      "text/plain": [
       "        meter_reading\n",
       "row_id               \n",
       "0            173.3703\n",
       "1             53.5127\n",
       "2              6.1430\n",
       "3            101.7015\n",
       "4           1141.2407"
      ]
     },
     "execution_count": 18,
     "metadata": {},
     "output_type": "execute_result"
    }
   ],
   "source": [
    "df_results.loc[df_leaked.index, 'meter_reading'] = df_leaked['meter_reading'].copy()\n",
    "del df_leaked\n",
    "gc.collect()\n",
    "df_results['meter_reading'] = df_results['meter_reading'].round(4)\n",
    "print(df_results.shape)\n",
    "df_results.head()"
   ]
  },
  {
   "cell_type": "code",
   "execution_count": 19,
   "metadata": {
    "ExecuteTime": {
     "end_time": "2019-12-08T09:20:48.098500Z",
     "start_time": "2019-12-08T09:19:13.997734Z"
    }
   },
   "outputs": [
    {
     "data": {
      "text/plain": [
       "7"
      ]
     },
     "execution_count": 19,
     "metadata": {},
     "output_type": "execute_result"
    }
   ],
   "source": [
    "path = '../submission'\n",
    "df_results.to_csv(f'{path}/submission_{name}_imputed_filled_na.csv')\n",
    "del df_results\n",
    "gc.collect()"
   ]
  },
  {
   "cell_type": "code",
   "execution_count": 20,
   "metadata": {
    "ExecuteTime": {
     "end_time": "2019-12-08T09:20:55.980808Z",
     "start_time": "2019-12-08T09:20:48.101184Z"
    }
   },
   "outputs": [
    {
     "data": {
      "text/plain": [
       "(41697600, 2)"
      ]
     },
     "execution_count": 20,
     "metadata": {},
     "output_type": "execute_result"
    }
   ],
   "source": [
    "df_results_ = pd.read_csv(f'{path}/submission_{name}_imputed_filled_na.csv')\n",
    "df_results_.shape"
   ]
  },
  {
   "cell_type": "code",
   "execution_count": null,
   "metadata": {},
   "outputs": [],
   "source": []
  }
 ],
 "metadata": {
  "kernelspec": {
   "display_name": "Python 3",
   "language": "python",
   "name": "python3"
  },
  "language_info": {
   "codemirror_mode": {
    "name": "ipython",
    "version": 3
   },
   "file_extension": ".py",
   "mimetype": "text/x-python",
   "name": "python",
   "nbconvert_exporter": "python",
   "pygments_lexer": "ipython3",
   "version": "3.7.1"
  }
 },
 "nbformat": 4,
 "nbformat_minor": 2
}
