{
 "cells": [
  {
   "cell_type": "code",
   "execution_count": 1,
   "metadata": {},
   "outputs": [],
   "source": [
    "# !pip install feather-format"
   ]
  },
  {
   "cell_type": "code",
   "execution_count": 2,
   "metadata": {},
   "outputs": [],
   "source": [
    "import pandas as pd\n",
    "import numpy as np\n",
    "import gc\n",
    "import matplotlib.pyplot as plt\n",
    "from sklearn.linear_model import LinearRegression\n",
    "from sklearn.preprocessing import PolynomialFeatures\n",
    "from sklearn.preprocessing import LabelEncoder\n",
    "import feather"
   ]
  },
  {
   "cell_type": "markdown",
   "metadata": {},
   "source": [
    "# Functions"
   ]
  },
  {
   "cell_type": "code",
   "execution_count": 3,
   "metadata": {},
   "outputs": [],
   "source": [
    "def reduce_mem_usage(df, verbose=True):\n",
    "    numerics = ['int16', 'int32', 'int64', 'float16', 'float32', 'float64']\n",
    "    start_mem = df.memory_usage().sum() / 1024**2    \n",
    "    for col in df.columns:\n",
    "        if col!=TARGET:\n",
    "            col_type = df[col].dtypes\n",
    "            if col_type in numerics:\n",
    "                c_min = df[col].min()\n",
    "                c_max = df[col].max()\n",
    "                if str(col_type)[:3] == 'int':\n",
    "                    if c_min > np.iinfo(np.int8).min and c_max < np.iinfo(np.int8).max:\n",
    "                        df[col] = df[col].astype(np.int8)\n",
    "                    elif c_min > np.iinfo(np.int16).min and c_max < np.iinfo(np.int16).max:\n",
    "                        df[col] = df[col].astype(np.int16)\n",
    "                    elif c_min > np.iinfo(np.int32).min and c_max < np.iinfo(np.int32).max:\n",
    "                        df[col] = df[col].astype(np.int32)\n",
    "                    elif c_min > np.iinfo(np.int64).min and c_max < np.iinfo(np.int64).max:\n",
    "                        df[col] = df[col].astype(np.int64)  \n",
    "                else:\n",
    "#                     if c_min > np.finfo(np.float16).min and c_max < np.finfo(np.float16).max:\n",
    "#                         df[col] = df[col].astype(np.float16)\n",
    "                    if c_min > np.finfo(np.float32).min and c_max < np.finfo(np.float32).max:\n",
    "                        df[col] = df[col].astype(np.float32)\n",
    "                    else:\n",
    "                        df[col] = df[col].astype(np.float64)    \n",
    "    end_mem = df.memory_usage().sum() / 1024**2\n",
    "    if verbose: print('Mem. usage decreased to {:5.2f} Mb ({:.1f}% reduction)'.format(end_mem, 100 * (start_mem - end_mem) / start_mem))\n",
    "    return df"
   ]
  },
  {
   "cell_type": "markdown",
   "metadata": {},
   "source": [
    "# Load data"
   ]
  },
  {
   "cell_type": "markdown",
   "metadata": {},
   "source": [
    "Meter data"
   ]
  },
  {
   "cell_type": "code",
   "execution_count": 4,
   "metadata": {},
   "outputs": [],
   "source": [
    "path = '../data'"
   ]
  },
  {
   "cell_type": "code",
   "execution_count": 7,
   "metadata": {},
   "outputs": [
    {
     "data": {
      "text/plain": [
       "0"
      ]
     },
     "execution_count": 7,
     "metadata": {},
     "output_type": "execute_result"
    }
   ],
   "source": [
    "df_type = 'test'\n",
    "df = pd.read_csv(f'{path}/ashrae/{df_type}.csv')\n",
    "\n",
    "df[\"local_time\"] = pd.to_datetime(df[\"timestamp\"])\n",
    "df['row_id'] = df.index\n",
    "\n",
    "df.to_feather(f'{path}/Prepared_data/{df_type}.feather')\n",
    "\n",
    "d_types = {'building_id': np.int16,\n",
    "          'meter': np.int8}\n",
    "\n",
    "for feature in d_types:\n",
    "    df[feature] = df[feature].astype(d_types[feature])\n",
    "\n",
    "gc.collect()"
   ]
  },
  {
   "cell_type": "markdown",
   "metadata": {},
   "source": [
    "Cities data"
   ]
  },
  {
   "cell_type": "code",
   "execution_count": 6,
   "metadata": {},
   "outputs": [],
   "source": [
    "cities = pd.read_csv(f'{path}/cities_info.csv')\n",
    "cities['location'] = cities['location'].str.lower()\n",
    "cities['utc'] = cities['utc'].apply(lambda x: x[0:3])\n",
    "cities['utc'] = cities['utc'].astype(float)\n",
    "\n",
    "site_mapping = cities['location'].to_dict()"
   ]
  },
  {
   "cell_type": "markdown",
   "metadata": {},
   "source": [
    "Building metadata"
   ]
  },
  {
   "cell_type": "code",
   "execution_count": 7,
   "metadata": {},
   "outputs": [],
   "source": [
    "building = pd.read_csv(f'{path}/ashrae/building_metadata.csv')\n",
    "d_types = {'building_id': np.int16,\n",
    "          'site_id': np.int8,\n",
    "          'primary_use': 'category',\n",
    "          'square_feet': np.int32,\n",
    "          'year_built': np.float32,\n",
    "          'floor_count': np.float32}\n",
    "\n",
    "for feature in d_types:\n",
    "    building[feature] = building[feature].astype(d_types[feature])\n",
    "    \n",
    "building['site_id'] = building['site_id'].replace({8:0,11:7})\n",
    "\n",
    "building = pd.merge(building, cities[['site_id','utc']], how='left')"
   ]
  },
  {
   "cell_type": "markdown",
   "metadata": {},
   "source": [
    "Predict floor_count"
   ]
  },
  {
   "cell_type": "code",
   "execution_count": 8,
   "metadata": {},
   "outputs": [
    {
     "name": "stdout",
     "output_type": "stream",
     "text": [
      "0.44\n"
     ]
    }
   ],
   "source": [
    "primary_use = pd.get_dummies(building['primary_use'])\n",
    "primary_use = primary_use[primary_use.columns[primary_use.sum().gt(10)]]\n",
    "building = pd.concat([building,primary_use],axis=1)\n",
    "\n",
    "cols = ['Office','Public services','Education','Entertainment/public assembly',\n",
    "        'Lodging/residential','square_feet']\n",
    "X = building[building['square_feet'].lt(80000)].dropna(subset=['floor_count'])[cols]\n",
    "Y = building[building['square_feet'].lt(80000)].dropna(subset=['floor_count'])['floor_count']\n",
    "\n",
    "poly = PolynomialFeatures().fit(X)\n",
    "X = poly.transform(X)[:,poly.powers_.max(axis=1)==1]\n",
    "\n",
    "lm = LinearRegression(fit_intercept=True).fit(X,Y)\n",
    "print(lm.score(X,Y).round(2))\n",
    "\n",
    "X = poly.transform(building[cols])[:,poly.powers_.max(axis=1)==1]\n",
    "pred = lm.predict(X)"
   ]
  },
  {
   "cell_type": "code",
   "execution_count": 9,
   "metadata": {},
   "outputs": [
    {
     "data": {
      "image/png": "[encoded data removed]",
      "text/plain": [
       "<Figure size 432x288 with 1 Axes>"
      ]
     },
     "metadata": {
      "needs_background": "light"
     },
     "output_type": "display_data"
    }
   ],
   "source": [
    "plt.scatter(x=building[building['floor_count'].notna()]['floor_count'],\n",
    "            y=pred[building['floor_count'].notna()],alpha=0.1)\n",
    "plt.plot([0,30],[0,30],c='r')\n",
    "plt.show()"
   ]
  },
  {
   "cell_type": "markdown",
   "metadata": {},
   "source": [
    "Filling NA and adding `square_feet_log`, inspiration from https://www.kaggle.com/tunguz/simple-linear-regression-benchmark"
   ]
  },
  {
   "cell_type": "code",
   "execution_count": 10,
   "metadata": {},
   "outputs": [],
   "source": [
    "building['new_floor_count'] = np.where(building['floor_count'].isna(),pred,building['floor_count'])\n",
    "building['new_year_built'] = building['year_built'].fillna(building['year_built'].mean())\n",
    "building['square_feet_log'] = np.log1p(building['square_feet']**0.5)\n",
    "\n",
    "building = building[['site_id','building_id','primary_use','square_feet','year_built',\n",
    "                     'floor_count','utc','new_floor_count','new_year_built','square_feet_log']]"
   ]
  },
  {
   "cell_type": "code",
   "execution_count": 11,
   "metadata": {},
   "outputs": [],
   "source": [
    "del lm, X, Y, poly, pred, d_types"
   ]
  },
  {
   "cell_type": "markdown",
   "metadata": {},
   "source": [
    "Merge df with building "
   ]
  },
  {
   "cell_type": "code",
   "execution_count": 12,
   "metadata": {},
   "outputs": [],
   "source": [
    "df = pd.merge(df,building)"
   ]
  },
  {
   "cell_type": "markdown",
   "metadata": {},
   "source": [
    "# Add time variables including holidays "
   ]
  },
  {
   "cell_type": "markdown",
   "metadata": {},
   "source": [
    "https://www.kaggle.com/c/ashrae-energy-prediction/discussion/115256#latest-671174"
   ]
  },
  {
   "cell_type": "code",
   "execution_count": 13,
   "metadata": {},
   "outputs": [],
   "source": [
    "import holidays.holidays as holidays\n",
    "ca_holidays = holidays.Canada()"
   ]
  },
  {
   "cell_type": "code",
   "execution_count": 14,
   "metadata": {},
   "outputs": [],
   "source": [
    "hldys = pd.read_csv(f'{path}/dates_related/public_holiday.csv')\n",
    "hldys['Date'] = pd.to_datetime(hldys['Date'], dayfirst=True)\n",
    "hldys = hldys[~hldys['Holiday'].str.contains('Robert E. Lee')]"
   ]
  },
  {
   "cell_type": "code",
   "execution_count": 15,
   "metadata": {},
   "outputs": [],
   "source": [
    "hldys_country = hldys[hldys['Type'].isin(cities['country'])]\n",
    "hldys_country = hldys_country.groupby(['Date','Type'])['Holiday'].first().unstack(level=1)\n",
    "hldys_country.columns = ['IR','UK','US']\n",
    "hldys_country = hldys_country.reindex(pd.date_range('2016-01-01','2018-12-31',freq='1D')).fillna('')\n",
    "hldys_country['CA'] = pd.Series(hldys_country.index).apply(lambda x: ca_holidays.get(x, default='')).values\n",
    "hldys_country = hldys_country!=''"
   ]
  },
  {
   "cell_type": "code",
   "execution_count": 16,
   "metadata": {},
   "outputs": [],
   "source": [
    "hldys_state = hldys[hldys['Type'].isin(cities['state'])]\n",
    "hldys_state = hldys_state.groupby(['Date','Type'])['Holiday'].first().unstack(level=1)\n",
    "hldys_state = hldys_state.reindex(pd.date_range('2016-01-01','2018-12-31',freq='1D')).fillna('')\n",
    "hldys_state = hldys_state!=''"
   ]
  },
  {
   "cell_type": "code",
   "execution_count": 17,
   "metadata": {},
   "outputs": [
    {
     "name": "stdout",
     "output_type": "stream",
     "text": [
      "Site 0 done.\n",
      "Site 1 done.\n",
      "Site 2 done.\n",
      "Site 3 done.\n",
      "Site 4 done.\n",
      "Site 5 done.\n",
      "Site 6 done.\n",
      "Site 7 done.\n",
      "Site 9 done.\n",
      "Site 10 done.\n",
      "Site 12 done.\n",
      "Site 13 done.\n",
      "Site 14 done.\n",
      "Site 15 done.\n"
     ]
    }
   ],
   "source": [
    "df['is_holiday'] = np.nan\n",
    "for s in df['site_id'].unique():\n",
    "    print('Site',s,'done.')\n",
    "    country = cities[cities['site_id'].eq(s)]['country'].values[0]\n",
    "    rows = df['site_id'].eq(s)\n",
    "    df.loc[rows,'is_holiday'] = hldys_country.loc[df.loc[rows,'local_time'].dt.date,country].values\n",
    "    if country =='US':\n",
    "        state = cities[cities['site_id'].eq(s)]['state'].values[0]\n",
    "        if state not in ['washingtondc','minnesota','pennsylvania']:\n",
    "            df.loc[rows,'is_holiday'] = df.loc[rows,'is_holiday'] | \\\n",
    "                                           hldys_state.loc[df.loc[rows,'local_time'].dt.date,state].values"
   ]
  },
  {
   "cell_type": "code",
   "execution_count": 18,
   "metadata": {},
   "outputs": [
    {
     "data": {
      "text/plain": [
       "2677"
      ]
     },
     "execution_count": 18,
     "metadata": {},
     "output_type": "execute_result"
    }
   ],
   "source": [
    "del hldys_state, hldys, hldys_country, state, country\n",
    "gc.collect()"
   ]
  },
  {
   "cell_type": "markdown",
   "metadata": {},
   "source": [
    "# Add other time features (cos sin) before moving to UTC"
   ]
  },
  {
   "cell_type": "code",
   "execution_count": 19,
   "metadata": {},
   "outputs": [],
   "source": [
    "df['weekday_cos'] = np.cos(2*np.pi*(df['local_time'].dt.weekday + df['local_time'].dt.hour/24)/7)\n",
    "df['weekday_sin'] = np.sin(2*np.pi*(df['local_time'].dt.weekday + df['local_time'].dt.hour/24)/7)\n",
    "\n",
    "df['weekday'] = (df['local_time'].dt.weekday//5).astype(int)*1.0\n",
    " \n",
    "df['hour_cos'] = np.cos(2*np.pi*df['local_time'].dt.hour/24)\n",
    "df['hour_sin'] = np.sin(2*np.pi*df['local_time'].dt.hour/24)\n",
    "\n",
    "df['year_cos'] = np.cos(2*np.pi*(df['local_time'].dt.dayofyear)/365)\n",
    "df['year_sin'] = np.sin(2*np.pi*(df['local_time'].dt.dayofyear)/365)\n",
    "\n",
    "df['night_time'] = (df['local_time'].dt.hour < 6) | (df['local_time'].dt.hour > 21)\n",
    "df['morning'] = (df['local_time'].dt.hour >= 6) & (df['local_time'].dt.hour <= 10)\n",
    "df['afternoon'] = (df['local_time'].dt.hour >= 11) & (df['local_time'].dt.hour <= 18)\n",
    "df['evening'] = (df['local_time'].dt.hour >= 19) & (df['local_time'].dt.hour <= 22)"
   ]
  },
  {
   "cell_type": "code",
   "execution_count": 20,
   "metadata": {},
   "outputs": [
    {
     "data": {
      "text/plain": [
       "98"
      ]
     },
     "execution_count": 20,
     "metadata": {},
     "output_type": "execute_result"
    }
   ],
   "source": [
    "gc.collect()"
   ]
  },
  {
   "cell_type": "markdown",
   "metadata": {},
   "source": [
    "# Add Day saving time feature"
   ]
  },
  {
   "cell_type": "code",
   "execution_count": 21,
   "metadata": {},
   "outputs": [],
   "source": [
    "day_savings = pd.read_csv(f'{path}/dates_related/daytime_savings.csv')\n",
    "day_savings_df = pd.DataFrame([],index=pd.date_range('2016-01-01','2018-12-31'))"
   ]
  },
  {
   "cell_type": "code",
   "execution_count": 22,
   "metadata": {},
   "outputs": [],
   "source": [
    "for country in day_savings['country'].unique():\n",
    "    day_savings_df[country]=False\n",
    "    for _,row in day_savings[day_savings['country']==country].iterrows():\n",
    "        day_savings_df[country] = day_savings_df[country].values | pd.Series(day_savings_df.index).between(row['start'],row['end']).values"
   ]
  },
  {
   "cell_type": "code",
   "execution_count": 23,
   "metadata": {},
   "outputs": [
    {
     "name": "stdout",
     "output_type": "stream",
     "text": [
      "Site 0 done.\n",
      "Site 1 done.\n",
      "Site 2 done.\n",
      "Site 3 done.\n",
      "Site 4 done.\n",
      "Site 5 done.\n",
      "Site 6 done.\n",
      "Site 7 done.\n",
      "Site 9 done.\n",
      "Site 10 done.\n",
      "Site 12 done.\n",
      "Site 13 done.\n",
      "Site 14 done.\n",
      "Site 15 done.\n"
     ]
    }
   ],
   "source": [
    "for s in df['site_id'].unique():\n",
    "    print('Site',s,'done.')\n",
    "    country = cities[cities['site_id'].eq(s)]['country'].values[0]\n",
    "    rows = df['site_id'].eq(s)\n",
    "    df.loc[rows,'is_day_saving'] = day_savings_df.loc[df.loc[rows,'local_time'].dt.date,country].values"
   ]
  },
  {
   "cell_type": "code",
   "execution_count": 24,
   "metadata": {},
   "outputs": [
    {
     "data": {
      "text/plain": [
       "208"
      ]
     },
     "execution_count": 24,
     "metadata": {},
     "output_type": "execute_result"
    }
   ],
   "source": [
    "del day_savings, day_savings_df, rows\n",
    "gc.collect()"
   ]
  },
  {
   "cell_type": "markdown",
   "metadata": {},
   "source": [
    "# Change time to UTC"
   ]
  },
  {
   "cell_type": "code",
   "execution_count": 25,
   "metadata": {},
   "outputs": [
    {
     "name": "stdout",
     "output_type": "stream",
     "text": [
      "Site 0 done.\n",
      "Site 1 done.\n",
      "Site 2 done.\n",
      "Site 3 done.\n",
      "Site 4 done.\n",
      "Site 5 done.\n",
      "Site 6 done.\n",
      "Site 7 done.\n",
      "Site 9 done.\n",
      "Site 10 done.\n",
      "Site 12 done.\n",
      "Site 13 done.\n",
      "Site 14 done.\n",
      "Site 15 done.\n"
     ]
    }
   ],
   "source": [
    "for site in df['site_id'].unique():\n",
    "    rows = df['site_id'].eq(site)\n",
    "    offset = df.loc[rows,'utc'].values[0]\n",
    "    df.loc[rows,'utc_time'] = df.loc[rows,'local_time'] - pd.DateOffset(hours=offset)\n",
    "    print(\"Site\", site, \"done.\")"
   ]
  },
  {
   "cell_type": "code",
   "execution_count": 26,
   "metadata": {},
   "outputs": [],
   "source": [
    "if df_type =='train':\n",
    "    for site in df['site_id'].unique():\n",
    "        if site != 13:\n",
    "            subset = df.loc[df['site_id'].eq(site)]\n",
    "            subset = subset.groupby(subset['local_time'].dt.hour)['meter_reading'].mean()\n",
    "            subset = (subset-subset.min())/(subset.max()-subset.min())\n",
    "            subset.plot(label=site)\n",
    "    plt.legend()\n",
    "    plt.show()"
   ]
  },
  {
   "cell_type": "code",
   "execution_count": 27,
   "metadata": {},
   "outputs": [],
   "source": [
    "if df_type =='train':\n",
    "    for primary_use in df['primary_use'].unique():\n",
    "        subset = df.loc[df['primary_use'].eq(primary_use)]\n",
    "        subset = subset.groupby(subset['local_time'].dt.hour)['meter_reading'].mean()\n",
    "        subset = (subset-subset.min())/(subset.max()-subset.min())\n",
    "        subset.plot(label=primary_use)\n",
    "    plt.legend(bbox_to_anchor=(1.1, 1.05))\n",
    "    plt.show()"
   ]
  },
  {
   "cell_type": "markdown",
   "metadata": {},
   "source": [
    "# Replace large outlier values"
   ]
  },
  {
   "cell_type": "code",
   "execution_count": 28,
   "metadata": {},
   "outputs": [],
   "source": [
    "TARGET = 'meter_reading'"
   ]
  },
  {
   "cell_type": "code",
   "execution_count": 29,
   "metadata": {},
   "outputs": [],
   "source": [
    "if df_type=='train':\n",
    "    grouping = df['building_id'].astype(str) +'_'+\\\n",
    "                 df['utc_time'].dt.month.astype(str) +'_'+\\\n",
    "                 df['meter'].astype(str) \n",
    "\n",
    "    temp_df = df.groupby(grouping)[TARGET].apply(lambda x: int(np.percentile(x,99)))\n",
    "    temp_df = temp_df.to_dict()\n",
    "\n",
    "    modified_meter_reading = grouping.map(temp_df)\n",
    "    df[TARGET] = np.where(df[TARGET]>modified_meter_reading,\n",
    "                          modified_meter_reading,\n",
    "                          df[TARGET])"
   ]
  },
  {
   "cell_type": "markdown",
   "metadata": {},
   "source": [
    "# Remove suspiciously constant data"
   ]
  },
  {
   "cell_type": "markdown",
   "metadata": {},
   "source": [
    "Remove data until a certain threshold for electricity meter readings based on : \n",
    "- https://www.kaggle.com/c/ashrae-energy-prediction/discussion/113054#656588\n",
    "- https://www.kaggle.com/c/ashrae-energy-prediction/discussion/116773#latest-675367"
   ]
  },
  {
   "cell_type": "code",
   "execution_count": 30,
   "metadata": {},
   "outputs": [],
   "source": [
    "if df_type =='train':\n",
    "    s = df.sort_values('local_time').groupby(['building_id','meter'])['meter_reading'].transform('cumsum')\n",
    "    s = s[df.index]\n",
    "\n",
    "    df['suspicious_1'] = (s.lt(500) & df['meter'].eq(0)) | \\\n",
    "                       (df['building_id'].le(104) & \n",
    "                        df['local_time'].dt.dayofyear.lt(140) & \n",
    "                        df['meter_reading'].eq(0))\n",
    "\n",
    "    df['suspicious_1'] = df['suspicious_1'].astype(np.int16)\n",
    "\n",
    "    df.groupby('building_id')['suspicious_1'].sum().plot()\n",
    "    plt.title(\"Number of points removed by building id\")\n",
    "    plt.show()\n"
   ]
  },
  {
   "cell_type": "code",
   "execution_count": 31,
   "metadata": {},
   "outputs": [],
   "source": [
    "if df_type =='train':\n",
    "    df = df.sort_values(['building_id','meter','utc_time'])\n",
    "    group_id = df.groupby(['building_id','meter'])['meter_reading'].diff().ne(0).cumsum()\n",
    "    same_value_in_a_row = group_id.groupby(group_id).transform('size')\n",
    "    \n",
    "    # Suspicious if more than 5 non-zero values in a row (for all meters) \n",
    "    # or 24 values in a row (including 0) if electricity\n",
    "    df['suspicious_2'] = same_value_in_a_row.gt(5)*df['meter_reading'].ne(0)\n",
    "    df['suspicious_2'] = df['suspicious_2'].astype(np.int16)\n",
    "    \n",
    "    df.groupby('building_id')['suspicious_2'].sum().plot()\n",
    "    plt.title(\"Number of points removed by building id\")\n",
    "    plt.show()\n",
    "    \n",
    "    df['suspicious_3'] = df['meter_reading'].eq(0)*df['meter'].eq(0)\n",
    "    df['suspicious_3'] = df['suspicious_3'].astype(np.int16)\n",
    "        \n",
    "    del group_id, same_value_in_a_row"
   ]
  },
  {
   "cell_type": "code",
   "execution_count": 32,
   "metadata": {},
   "outputs": [
    {
     "data": {
      "text/plain": [
       "100"
      ]
     },
     "execution_count": 32,
     "metadata": {},
     "output_type": "execute_result"
    }
   ],
   "source": [
    "to_drop = [col for col in ['local_time','timestamp'] if col in df.columns]\n",
    "df = df.drop(columns=to_drop)\n",
    "del to_drop\n",
    "gc.collect()"
   ]
  },
  {
   "cell_type": "markdown",
   "metadata": {},
   "source": [
    "# Replace categorical features"
   ]
  },
  {
   "cell_type": "code",
   "execution_count": 33,
   "metadata": {},
   "outputs": [],
   "source": [
    "df['meter'] = df['meter'].astype('category')\n",
    "df['is_holiday'] = df['is_holiday'].astype('category')\n",
    "df[['night_time','morning','afternoon','evening']]= df[['night_time','morning','afternoon','evening']].astype('category')\n",
    "df['weekday'] = df['weekday'].astype('category')\n",
    "df['is_day_saving'] = df['is_day_saving'].astype('category')\n",
    "df['site_id'] = df['site_id'].astype('category')"
   ]
  },
  {
   "cell_type": "markdown",
   "metadata": {},
   "source": [
    "# Add age of building"
   ]
  },
  {
   "cell_type": "code",
   "execution_count": 34,
   "metadata": {},
   "outputs": [],
   "source": [
    "df['age'] = df['utc_time'].dt.year - df['year_built'] "
   ]
  },
  {
   "cell_type": "markdown",
   "metadata": {},
   "source": [
    "# Merge with weather"
   ]
  },
  {
   "cell_type": "code",
   "execution_count": 35,
   "metadata": {},
   "outputs": [],
   "source": [
    "weather = feather.read_dataframe(f'{path}/Prepared_data/weather_bis.feather')\n",
    "\n",
    "if df_type =='test':\n",
    "    weather = weather[weather['timestamp'].dt.year>2016].copy()\n",
    "else:\n",
    "    weather = weather[weather['timestamp'].dt.year<=2016].copy()\n",
    "\n",
    "    \n",
    "df = pd.merge(df, weather, how='left', left_on=['site_id','utc_time'], right_on=['site_id','timestamp'])\n",
    "del weather\n",
    "gc.collect()\n",
    "\n",
    "df.drop(columns='timestamp',inplace=True)"
   ]
  },
  {
   "cell_type": "markdown",
   "metadata": {},
   "source": [
    "# Reduce memory"
   ]
  },
  {
   "cell_type": "code",
   "execution_count": 36,
   "metadata": {},
   "outputs": [
    {
     "name": "stdout",
     "output_type": "stream",
     "text": [
      "year_built\n",
      "floor_count\n",
      "utc\n",
      "new_floor_count\n",
      "new_year_built\n",
      "square_feet_log\n",
      "weekday_cos\n",
      "weekday_sin\n",
      "hour_cos\n",
      "hour_sin\n",
      "year_cos\n",
      "year_sin\n",
      "age\n",
      "air_temperature\n",
      "cloud_coverage\n",
      "dew_temperature\n",
      "precip_depth_1_hr\n",
      "sea_level_pressure\n",
      "wind_speed\n",
      "new_sea_level_pressure\n",
      "new_dew_temperature\n",
      "new_wind_speed\n",
      "new_cloud_coverage\n",
      "new_precip_depth_1_hr\n",
      "new_air_temperature\n",
      "uvIndex\n",
      "cloudCover\n",
      "humidity\n",
      "latitude\n",
      "longitude\n",
      "irradiance\n",
      "irradiance_cloud\n",
      "feels_like\n",
      "new_feels_like\n",
      "altitude\n",
      "azimuth\n",
      "radiation\n",
      "air_temperature_mean_lag72\n",
      "air_temperature_max_lag72\n",
      "air_temperature_min_lag72\n",
      "air_temperature_std_lag72\n",
      "cloudCover_mean_lag72\n",
      "cloudCover_max_lag72\n",
      "cloudCover_min_lag72\n",
      "cloudCover_std_lag72\n",
      "beaufort_scale\n",
      "wind_direction_cos\n",
      "wind_direction_sin\n",
      "new_wind_direction_cos\n",
      "new_wind_direction_sin\n"
     ]
    },
    {
     "data": {
      "text/plain": [
       "0"
      ]
     },
     "execution_count": 36,
     "metadata": {},
     "output_type": "execute_result"
    }
   ],
   "source": [
    "for f in ['primary_use','is_day_saving','is_holiday','meter','site_id']:\n",
    "    df[f] = df[f].astype('category')\n",
    "    gc.collect()\n",
    "\n",
    "for col in df.columns:\n",
    "    if df[col].dtype in ['float64','float32','float16']:\n",
    "        print(col)\n",
    "        df[col] = df[col].round(4)\n",
    "        gc.collect()\n",
    "        \n",
    "gc.collect()"
   ]
  },
  {
   "cell_type": "code",
   "execution_count": 37,
   "metadata": {},
   "outputs": [
    {
     "name": "stdout",
     "output_type": "stream",
     "text": [
      "Mem. usage decreased to 9384.76 Mb (40.4% reduction)\n"
     ]
    }
   ],
   "source": [
    "# do_not_convert = ['category','datetime64[ns]','object','boolean']\n",
    "# original = df.copy()\n",
    "# df = reduce_mem_usage(df)\n",
    "\n",
    "# for col in list(df):\n",
    "#     if df[col].dtype.name not in do_not_convert:\n",
    "#         if (df[col]-original[col]).sum()!=0:\n",
    "#             df[col] = original[col]\n",
    "#             print('Bad transformation', col)\n",
    "# del original\n",
    "\n",
    "do_not_convert = ['category','datetime64[ns]','object','boolean']\n",
    "original = df.copy()\n",
    "TARGET = 'meter_reading_log'\n",
    "df = reduce_mem_usage(df)\n",
    "\n",
    "for col in list(df):\n",
    "    if df[col].dtype.name not in do_not_convert:\n",
    "        if (df[col]-original[col]).abs().max()>0.01:\n",
    "            print('Bad transformation', col)\n",
    "            print((df[col]-original[col]).abs().max())\n",
    "            df[col] = original[col].copy()\n",
    "del original"
   ]
  },
  {
   "cell_type": "code",
   "execution_count": 38,
   "metadata": {},
   "outputs": [
    {
     "data": {
      "text/plain": [
       "20"
      ]
     },
     "execution_count": 38,
     "metadata": {},
     "output_type": "execute_result"
    }
   ],
   "source": [
    "# df['floor_count'] = df['floor_count'].astype(np.int32)\n",
    "# df['year_built'] = df['year_built'].astype(np.int32)\n",
    "# df['utc'] = df['utc'].astype(np.int32)\n",
    "\n",
    "df = df.reset_index(drop=True)\n",
    "gc.collect()"
   ]
  },
  {
   "cell_type": "markdown",
   "metadata": {},
   "source": [
    "# Save data"
   ]
  },
  {
   "cell_type": "code",
   "execution_count": 39,
   "metadata": {},
   "outputs": [
    {
     "name": "stdout",
     "output_type": "stream",
     "text": [
      "CPU times: user 16.1 s, sys: 14.4 s, total: 30.5 s\n",
      "Wall time: 17 s\n"
     ]
    }
   ],
   "source": [
    "%%time\n",
    "df.to_feather(f'{path}/Prepared_data/{df_type}_filled_na_light.feather')"
   ]
  },
  {
   "cell_type": "code",
   "execution_count": null,
   "metadata": {},
   "outputs": [],
   "source": []
  }
 ],
 "metadata": {
  "kernelspec": {
   "display_name": "Python 3",
   "language": "python",
   "name": "python3"
  },
  "language_info": {
   "codemirror_mode": {
    "name": "ipython",
    "version": 3
   },
   "file_extension": ".py",
   "mimetype": "text/x-python",
   "name": "python",
   "nbconvert_exporter": "python",
   "pygments_lexer": "ipython3",
   "version": "3.7.5"
  }
 },
 "nbformat": 4,
 "nbformat_minor": 2
}
